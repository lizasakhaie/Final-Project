{
 "cells": [
  {
   "cell_type": "markdown",
   "metadata": {},
   "source": [
    "# The Sharing Economy: Impact of Ride Hailing"
   ]
  },
  {
   "cell_type": "markdown",
   "metadata": {},
   "source": [
    "Principal Investigator: Liza Sakhaie\n",
    "\n",
    "Email: liza.sakhaie@stern.nyu.edu\n"
   ]
  },
  {
   "cell_type": "markdown",
   "metadata": {},
   "source": [
    "In this project, I will study how ride hailing apps have grown recently. I will use data over the past 5 years, since this is when ride sharing became particularly popular.\n",
    "\n",
    "I will also explore the decline of the NYC taxi industry in contrast to the rise of ride-hailing apps.\n",
    "\n",
    "The data holds the potential to portray a few different trends:\n",
    "\n",
    "- The rise of Ride Hailing apps (using number of rides/year as a measurement) and the decline of NYC Yellow Taxis\n",
    "- The Y-O-Y growth rates for each ride hailing app, in order to show the increase in popularity Uber's comeptition\n",
    "- The growth in the number of drivers for each ride hailing app\n",
    "- The increase in the trend for ride-sharing\n",
    "- The seasonality of ride-hailing apps\n"
   ]
  },
  {
   "cell_type": "markdown",
   "metadata": {},
   "source": [
    "### The Data"
   ]
  },
  {
   "cell_type": "markdown",
   "metadata": {},
   "source": [
    "The data used in this project comes from NYC open data (https://data.cityofnewyork.us/Transportation/FHV-Base-Aggregate-Report/2v9c-2k7f), which has aggregated ride information on many car companies including the four most popular ride hailing apps that I plan on including in this project: Uber, Lyft, Via and Juno. \n",
    "\n",
    "The ride-hailing data is all on one data set and includes info from 2015-2018. The information includes the month/year for each brand, the total dispatched trips for that month, the total dispatched shared trips, and the unique dispatched vehicles. \n",
    "\n",
    "The second data set I will pull in comes frmo the NYC Taxi and Limousine Commission (https://www1.nyc.gov/site/tlc/about/aggregated-reports.page). This includes monthly aggregated data for yellow and green cabs through 2018. \n",
    "\n",
    "Access: I will use the BEA's API to download and access the data. Below I demonstrate that I have the ability to access the data.\n",
    "\n",
    "Requisite Packages: Below I bring in the packages I need..."
   ]
  },
  {
   "cell_type": "markdown",
   "metadata": {},
   "source": [
    "### Importing all potentially necessary packages"
   ]
  },
  {
   "cell_type": "code",
   "execution_count": 131,
   "metadata": {},
   "outputs": [],
   "source": [
    "from IPython.display import display, Image # Displays things nicely\n",
    "import pandas as pd # Key tool \n",
    "import matplotlib.pyplot as plt # Helps plot\n",
    "import numpy as np # Numerical operations\n",
    "import os\n",
    "import csv\n",
    "import descartes\n",
    "\n",
    "import geopandas as gpd  \n",
    "from shapely.geometry import Point, Polygon \n",
    "\n",
    "from mpl_toolkits.axes_grid1.inset_locator import zoomed_inset_axes\n",
    "from mpl_toolkits.axes_grid1.inset_locator import mark_inset\n",
    "\n",
    "%matplotlib inline "
   ]
  },
  {
   "cell_type": "markdown",
   "metadata": {},
   "source": [
    "### Bringing in my data"
   ]
  },
  {
   "cell_type": "code",
   "execution_count": 506,
   "metadata": {},
   "outputs": [],
   "source": [
    "ride_hailing= \"/Users/rksaks/Desktop/Taxi idea/FHV_Base_Aggregate_report-2.xls\""
   ]
  },
  {
   "cell_type": "code",
   "execution_count": 507,
   "metadata": {},
   "outputs": [],
   "source": [
    "ride_hailing=pd.read_excel(ride_hailing)"
   ]
  },
  {
   "cell_type": "code",
   "execution_count": 508,
   "metadata": {},
   "outputs": [
    {
     "data": {
      "text/html": [
       "<div>\n",
       "<style scoped>\n",
       "    .dataframe tbody tr th:only-of-type {\n",
       "        vertical-align: middle;\n",
       "    }\n",
       "\n",
       "    .dataframe tbody tr th {\n",
       "        vertical-align: top;\n",
       "    }\n",
       "\n",
       "    .dataframe thead th {\n",
       "        text-align: right;\n",
       "    }\n",
       "</style>\n",
       "<table border=\"1\" class=\"dataframe\">\n",
       "  <thead>\n",
       "    <tr style=\"text-align: right;\">\n",
       "      <th></th>\n",
       "      <th>Base License Number</th>\n",
       "      <th>Base Name</th>\n",
       "      <th>DBA</th>\n",
       "      <th>Year</th>\n",
       "      <th>Month</th>\n",
       "      <th>Month Name</th>\n",
       "      <th>Total Dispatched Trips</th>\n",
       "      <th>Total Dispatched Shared Trips</th>\n",
       "      <th>Unique Dispatched Vehicles</th>\n",
       "    </tr>\n",
       "  </thead>\n",
       "  <tbody>\n",
       "    <tr>\n",
       "      <th>0</th>\n",
       "      <td>B02849</td>\n",
       "      <td>BROOKLYN RIDES CORP</td>\n",
       "      <td>NaN</td>\n",
       "      <td>2018</td>\n",
       "      <td>11</td>\n",
       "      <td>November</td>\n",
       "      <td>16493</td>\n",
       "      <td>192</td>\n",
       "      <td>122</td>\n",
       "    </tr>\n",
       "    <tr>\n",
       "      <th>1</th>\n",
       "      <td>B02686</td>\n",
       "      <td>STANDARD LIMOUSINE &amp; CAR SERVICE GROUP LLC.</td>\n",
       "      <td>NaN</td>\n",
       "      <td>2018</td>\n",
       "      <td>7</td>\n",
       "      <td>July</td>\n",
       "      <td>61</td>\n",
       "      <td>0</td>\n",
       "      <td>15</td>\n",
       "    </tr>\n",
       "    <tr>\n",
       "      <th>2</th>\n",
       "      <td>B01741</td>\n",
       "      <td>MONACO LIMO &amp; CAR SERVICES INC.</td>\n",
       "      <td>NaN</td>\n",
       "      <td>2016</td>\n",
       "      <td>9</td>\n",
       "      <td>September</td>\n",
       "      <td>1790</td>\n",
       "      <td>0</td>\n",
       "      <td>12</td>\n",
       "    </tr>\n",
       "    <tr>\n",
       "      <th>3</th>\n",
       "      <td>b00965</td>\n",
       "      <td>BEN JEVO MGT. INC.</td>\n",
       "      <td>NEWPORT CAR SERVICE</td>\n",
       "      <td>2016</td>\n",
       "      <td>1</td>\n",
       "      <td>January</td>\n",
       "      <td>7623</td>\n",
       "      <td>0</td>\n",
       "      <td>49</td>\n",
       "    </tr>\n",
       "    <tr>\n",
       "      <th>4</th>\n",
       "      <td>B02509</td>\n",
       "      <td>NY MINUTE CAR SERVICE INC.</td>\n",
       "      <td>NaN</td>\n",
       "      <td>2018</td>\n",
       "      <td>9</td>\n",
       "      <td>September</td>\n",
       "      <td>9284</td>\n",
       "      <td>0</td>\n",
       "      <td>54</td>\n",
       "    </tr>\n",
       "    <tr>\n",
       "      <th>5</th>\n",
       "      <td>B02790</td>\n",
       "      <td>LAN TIAN CAR SERVICE, INC</td>\n",
       "      <td>NaN</td>\n",
       "      <td>2018</td>\n",
       "      <td>11</td>\n",
       "      <td>November</td>\n",
       "      <td>6</td>\n",
       "      <td>0</td>\n",
       "      <td>2</td>\n",
       "    </tr>\n",
       "    <tr>\n",
       "      <th>6</th>\n",
       "      <td>B01381</td>\n",
       "      <td>CLASSIC CAR SERVICE CORP.</td>\n",
       "      <td>PAISA CLASSIC</td>\n",
       "      <td>2016</td>\n",
       "      <td>6</td>\n",
       "      <td>June</td>\n",
       "      <td>4173</td>\n",
       "      <td>0</td>\n",
       "      <td>45</td>\n",
       "    </tr>\n",
       "    <tr>\n",
       "      <th>7</th>\n",
       "      <td>B01876</td>\n",
       "      <td>QUALITY EXECUTIVE LIMOUSINE L.L.C</td>\n",
       "      <td>NaN</td>\n",
       "      <td>2018</td>\n",
       "      <td>5</td>\n",
       "      <td>May</td>\n",
       "      <td>35</td>\n",
       "      <td>0</td>\n",
       "      <td>5</td>\n",
       "    </tr>\n",
       "    <tr>\n",
       "      <th>8</th>\n",
       "      <td>B00202</td>\n",
       "      <td>EXCELSIOR CAR &amp; LIMO, INC.</td>\n",
       "      <td>NaN</td>\n",
       "      <td>2018</td>\n",
       "      <td>9</td>\n",
       "      <td>September</td>\n",
       "      <td>228</td>\n",
       "      <td>0</td>\n",
       "      <td>8</td>\n",
       "    </tr>\n",
       "    <tr>\n",
       "      <th>9</th>\n",
       "      <td>B03105</td>\n",
       "      <td>MAZNA TRANSPORTATION CORPORATION</td>\n",
       "      <td>NaN</td>\n",
       "      <td>2018</td>\n",
       "      <td>10</td>\n",
       "      <td>October</td>\n",
       "      <td>142</td>\n",
       "      <td>0</td>\n",
       "      <td>9</td>\n",
       "    </tr>\n",
       "  </tbody>\n",
       "</table>\n",
       "</div>"
      ],
      "text/plain": [
       "  Base License Number                                    Base Name  \\\n",
       "0              B02849                          BROOKLYN RIDES CORP   \n",
       "1              B02686  STANDARD LIMOUSINE & CAR SERVICE GROUP LLC.   \n",
       "2              B01741              MONACO LIMO & CAR SERVICES INC.   \n",
       "3              b00965                           BEN JEVO MGT. INC.   \n",
       "4              B02509                   NY MINUTE CAR SERVICE INC.   \n",
       "5              B02790                    LAN TIAN CAR SERVICE, INC   \n",
       "6              B01381                    CLASSIC CAR SERVICE CORP.   \n",
       "7              B01876            QUALITY EXECUTIVE LIMOUSINE L.L.C   \n",
       "8              B00202                   EXCELSIOR CAR & LIMO, INC.   \n",
       "9              B03105             MAZNA TRANSPORTATION CORPORATION   \n",
       "\n",
       "                   DBA  Year  Month Month Name  Total Dispatched Trips  \\\n",
       "0                  NaN  2018     11   November                   16493   \n",
       "1                  NaN  2018      7       July                      61   \n",
       "2                  NaN  2016      9  September                    1790   \n",
       "3  NEWPORT CAR SERVICE  2016      1    January                    7623   \n",
       "4                  NaN  2018      9  September                    9284   \n",
       "5                  NaN  2018     11   November                       6   \n",
       "6        PAISA CLASSIC  2016      6       June                    4173   \n",
       "7                  NaN  2018      5        May                      35   \n",
       "8                  NaN  2018      9  September                     228   \n",
       "9                  NaN  2018     10    October                     142   \n",
       "\n",
       "   Total Dispatched Shared Trips  Unique Dispatched Vehicles  \n",
       "0                            192                         122  \n",
       "1                              0                          15  \n",
       "2                              0                          12  \n",
       "3                              0                          49  \n",
       "4                              0                          54  \n",
       "5                              0                           2  \n",
       "6                              0                          45  \n",
       "7                              0                           5  \n",
       "8                              0                           8  \n",
       "9                              0                           9  "
      ]
     },
     "execution_count": 508,
     "metadata": {},
     "output_type": "execute_result"
    }
   ],
   "source": [
    "ride_hailing.head(10)"
   ]
  },
  {
   "cell_type": "code",
   "execution_count": 509,
   "metadata": {},
   "outputs": [],
   "source": [
    "taxi_file_path= \"/Users/rksaks/Desktop/taxi_dataset.csv\""
   ]
  },
  {
   "cell_type": "code",
   "execution_count": 510,
   "metadata": {},
   "outputs": [],
   "source": [
    "taxi_df= pd.read_csv(taxi_file_path)"
   ]
  },
  {
   "cell_type": "code",
   "execution_count": 511,
   "metadata": {},
   "outputs": [
    {
     "data": {
      "text/html": [
       "<div>\n",
       "<style scoped>\n",
       "    .dataframe tbody tr th:only-of-type {\n",
       "        vertical-align: middle;\n",
       "    }\n",
       "\n",
       "    .dataframe tbody tr th {\n",
       "        vertical-align: top;\n",
       "    }\n",
       "\n",
       "    .dataframe thead th {\n",
       "        text-align: right;\n",
       "    }\n",
       "</style>\n",
       "<table border=\"1\" class=\"dataframe\">\n",
       "  <thead>\n",
       "    <tr style=\"text-align: right;\">\n",
       "      <th></th>\n",
       "      <th>Month/Year</th>\n",
       "      <th>License Class</th>\n",
       "      <th>Trips Per Day</th>\n",
       "      <th>Unique Drivers</th>\n",
       "      <th>Unique Vehicles</th>\n",
       "      <th>Vehicles Per Day</th>\n",
       "    </tr>\n",
       "  </thead>\n",
       "  <tbody>\n",
       "    <tr>\n",
       "      <th>0</th>\n",
       "      <td>2019-03</td>\n",
       "      <td>Green</td>\n",
       "      <td>19,318</td>\n",
       "      <td>3,586</td>\n",
       "      <td>3,296</td>\n",
       "      <td>2,524</td>\n",
       "    </tr>\n",
       "    <tr>\n",
       "      <th>1</th>\n",
       "      <td>2019-03</td>\n",
       "      <td>Yellow</td>\n",
       "      <td>252,634</td>\n",
       "      <td>21,956</td>\n",
       "      <td>11,912</td>\n",
       "      <td>10,814</td>\n",
       "    </tr>\n",
       "    <tr>\n",
       "      <th>2</th>\n",
       "      <td>2019-03</td>\n",
       "      <td>FHV - High Volume</td>\n",
       "      <td>769,729</td>\n",
       "      <td>87,695</td>\n",
       "      <td>86,540</td>\n",
       "      <td>59,893</td>\n",
       "    </tr>\n",
       "    <tr>\n",
       "      <th>3</th>\n",
       "      <td>2019-02</td>\n",
       "      <td>Yellow</td>\n",
       "      <td>250,654</td>\n",
       "      <td>21,733</td>\n",
       "      <td>11,895</td>\n",
       "      <td>10,770</td>\n",
       "    </tr>\n",
       "    <tr>\n",
       "      <th>4</th>\n",
       "      <td>2019-02</td>\n",
       "      <td>Green</td>\n",
       "      <td>20,481</td>\n",
       "      <td>3,626</td>\n",
       "      <td>3,385</td>\n",
       "      <td>2,651</td>\n",
       "    </tr>\n",
       "  </tbody>\n",
       "</table>\n",
       "</div>"
      ],
      "text/plain": [
       "  Month/Year      License Class Trips Per Day Unique Drivers Unique Vehicles  \\\n",
       "0    2019-03              Green        19,318          3,586           3,296   \n",
       "1    2019-03             Yellow       252,634         21,956          11,912   \n",
       "2    2019-03  FHV - High Volume       769,729         87,695          86,540   \n",
       "3    2019-02             Yellow       250,654         21,733          11,895   \n",
       "4    2019-02              Green        20,481          3,626           3,385   \n",
       "\n",
       "  Vehicles Per Day  \n",
       "0            2,524  \n",
       "1           10,814  \n",
       "2           59,893  \n",
       "3           10,770  \n",
       "4            2,651  "
      ]
     },
     "execution_count": 511,
     "metadata": {},
     "output_type": "execute_result"
    }
   ],
   "source": [
    "taxi_df.head()"
   ]
  },
  {
   "cell_type": "markdown",
   "metadata": {},
   "source": [
    "## Let's work with our Yellow Taxi Data first\n",
    "We want to eliminate all other data besides yellow cab data, and then we want to separate the year from the month."
   ]
  },
  {
   "cell_type": "code",
   "execution_count": 512,
   "metadata": {},
   "outputs": [],
   "source": [
    "taxi_df = taxi_df[taxi_df[\"License Class\"] == \"Yellow\"]"
   ]
  },
  {
   "cell_type": "code",
   "execution_count": 513,
   "metadata": {},
   "outputs": [
    {
     "data": {
      "text/html": [
       "<div>\n",
       "<style scoped>\n",
       "    .dataframe tbody tr th:only-of-type {\n",
       "        vertical-align: middle;\n",
       "    }\n",
       "\n",
       "    .dataframe tbody tr th {\n",
       "        vertical-align: top;\n",
       "    }\n",
       "\n",
       "    .dataframe thead th {\n",
       "        text-align: right;\n",
       "    }\n",
       "</style>\n",
       "<table border=\"1\" class=\"dataframe\">\n",
       "  <thead>\n",
       "    <tr style=\"text-align: right;\">\n",
       "      <th></th>\n",
       "      <th>Month/Year</th>\n",
       "      <th>License Class</th>\n",
       "      <th>Trips Per Day</th>\n",
       "      <th>Unique Drivers</th>\n",
       "      <th>Unique Vehicles</th>\n",
       "      <th>Vehicles Per Day</th>\n",
       "    </tr>\n",
       "  </thead>\n",
       "  <tbody>\n",
       "    <tr>\n",
       "      <th>1</th>\n",
       "      <td>2019-03</td>\n",
       "      <td>Yellow</td>\n",
       "      <td>252,634</td>\n",
       "      <td>21,956</td>\n",
       "      <td>11,912</td>\n",
       "      <td>10,814</td>\n",
       "    </tr>\n",
       "    <tr>\n",
       "      <th>3</th>\n",
       "      <td>2019-02</td>\n",
       "      <td>Yellow</td>\n",
       "      <td>250,654</td>\n",
       "      <td>21,733</td>\n",
       "      <td>11,895</td>\n",
       "      <td>10,770</td>\n",
       "    </tr>\n",
       "    <tr>\n",
       "      <th>6</th>\n",
       "      <td>2019-01</td>\n",
       "      <td>Yellow</td>\n",
       "      <td>247,315</td>\n",
       "      <td>22,085</td>\n",
       "      <td>11,867</td>\n",
       "      <td>10,582</td>\n",
       "    </tr>\n",
       "    <tr>\n",
       "      <th>12</th>\n",
       "      <td>2018-12</td>\n",
       "      <td>Yellow</td>\n",
       "      <td>263,609</td>\n",
       "      <td>23,042</td>\n",
       "      <td>11,938</td>\n",
       "      <td>10,803</td>\n",
       "    </tr>\n",
       "    <tr>\n",
       "      <th>18</th>\n",
       "      <td>2018-12</td>\n",
       "      <td>Yellow</td>\n",
       "      <td>263,609</td>\n",
       "      <td>23,042</td>\n",
       "      <td>11,938</td>\n",
       "      <td>10,803</td>\n",
       "    </tr>\n",
       "  </tbody>\n",
       "</table>\n",
       "</div>"
      ],
      "text/plain": [
       "   Month/Year License Class Trips Per Day Unique Drivers Unique Vehicles  \\\n",
       "1     2019-03        Yellow       252,634         21,956          11,912   \n",
       "3     2019-02        Yellow       250,654         21,733          11,895   \n",
       "6     2019-01        Yellow       247,315         22,085          11,867   \n",
       "12    2018-12        Yellow       263,609         23,042          11,938   \n",
       "18    2018-12        Yellow       263,609         23,042          11,938   \n",
       "\n",
       "   Vehicles Per Day  \n",
       "1            10,814  \n",
       "3            10,770  \n",
       "6            10,582  \n",
       "12           10,803  \n",
       "18           10,803  "
      ]
     },
     "execution_count": 513,
     "metadata": {},
     "output_type": "execute_result"
    }
   ],
   "source": [
    "taxi_df.head()"
   ]
  },
  {
   "cell_type": "markdown",
   "metadata": {},
   "source": [
    "Let's break up the month and year so we can group by each..."
   ]
  },
  {
   "cell_type": "code",
   "execution_count": 514,
   "metadata": {},
   "outputs": [],
   "source": [
    "taxi_df[\"Month/Year\"] = taxi_df[\"Month/Year\"].str.split(\"-\", expand = False)"
   ]
  },
  {
   "cell_type": "code",
   "execution_count": 515,
   "metadata": {},
   "outputs": [
    {
     "data": {
      "text/html": [
       "<div>\n",
       "<style scoped>\n",
       "    .dataframe tbody tr th:only-of-type {\n",
       "        vertical-align: middle;\n",
       "    }\n",
       "\n",
       "    .dataframe tbody tr th {\n",
       "        vertical-align: top;\n",
       "    }\n",
       "\n",
       "    .dataframe thead th {\n",
       "        text-align: right;\n",
       "    }\n",
       "</style>\n",
       "<table border=\"1\" class=\"dataframe\">\n",
       "  <thead>\n",
       "    <tr style=\"text-align: right;\">\n",
       "      <th></th>\n",
       "      <th>Month/Year</th>\n",
       "      <th>License Class</th>\n",
       "      <th>Trips Per Day</th>\n",
       "      <th>Unique Drivers</th>\n",
       "      <th>Unique Vehicles</th>\n",
       "      <th>Vehicles Per Day</th>\n",
       "    </tr>\n",
       "  </thead>\n",
       "  <tbody>\n",
       "    <tr>\n",
       "      <th>1</th>\n",
       "      <td>[2019, 03]</td>\n",
       "      <td>Yellow</td>\n",
       "      <td>252,634</td>\n",
       "      <td>21,956</td>\n",
       "      <td>11,912</td>\n",
       "      <td>10,814</td>\n",
       "    </tr>\n",
       "    <tr>\n",
       "      <th>3</th>\n",
       "      <td>[2019, 02]</td>\n",
       "      <td>Yellow</td>\n",
       "      <td>250,654</td>\n",
       "      <td>21,733</td>\n",
       "      <td>11,895</td>\n",
       "      <td>10,770</td>\n",
       "    </tr>\n",
       "    <tr>\n",
       "      <th>6</th>\n",
       "      <td>[2019, 01]</td>\n",
       "      <td>Yellow</td>\n",
       "      <td>247,315</td>\n",
       "      <td>22,085</td>\n",
       "      <td>11,867</td>\n",
       "      <td>10,582</td>\n",
       "    </tr>\n",
       "    <tr>\n",
       "      <th>12</th>\n",
       "      <td>[2018, 12]</td>\n",
       "      <td>Yellow</td>\n",
       "      <td>263,609</td>\n",
       "      <td>23,042</td>\n",
       "      <td>11,938</td>\n",
       "      <td>10,803</td>\n",
       "    </tr>\n",
       "    <tr>\n",
       "      <th>18</th>\n",
       "      <td>[2018, 12]</td>\n",
       "      <td>Yellow</td>\n",
       "      <td>263,609</td>\n",
       "      <td>23,042</td>\n",
       "      <td>11,938</td>\n",
       "      <td>10,803</td>\n",
       "    </tr>\n",
       "  </tbody>\n",
       "</table>\n",
       "</div>"
      ],
      "text/plain": [
       "    Month/Year License Class Trips Per Day Unique Drivers Unique Vehicles  \\\n",
       "1   [2019, 03]        Yellow       252,634         21,956          11,912   \n",
       "3   [2019, 02]        Yellow       250,654         21,733          11,895   \n",
       "6   [2019, 01]        Yellow       247,315         22,085          11,867   \n",
       "12  [2018, 12]        Yellow       263,609         23,042          11,938   \n",
       "18  [2018, 12]        Yellow       263,609         23,042          11,938   \n",
       "\n",
       "   Vehicles Per Day  \n",
       "1            10,814  \n",
       "3            10,770  \n",
       "6            10,582  \n",
       "12           10,803  \n",
       "18           10,803  "
      ]
     },
     "execution_count": 515,
     "metadata": {},
     "output_type": "execute_result"
    }
   ],
   "source": [
    "taxi_df.head()"
   ]
  },
  {
   "cell_type": "code",
   "execution_count": 516,
   "metadata": {},
   "outputs": [],
   "source": [
    "taxi_df[\"Year\"] = taxi_df[\"Month/Year\"].str[0]"
   ]
  },
  {
   "cell_type": "code",
   "execution_count": 517,
   "metadata": {},
   "outputs": [],
   "source": [
    "taxi_df[\"Month\"] = taxi_df[\"Month/Year\"].str[1]"
   ]
  },
  {
   "cell_type": "code",
   "execution_count": 518,
   "metadata": {},
   "outputs": [
    {
     "data": {
      "text/html": [
       "<div>\n",
       "<style scoped>\n",
       "    .dataframe tbody tr th:only-of-type {\n",
       "        vertical-align: middle;\n",
       "    }\n",
       "\n",
       "    .dataframe tbody tr th {\n",
       "        vertical-align: top;\n",
       "    }\n",
       "\n",
       "    .dataframe thead th {\n",
       "        text-align: right;\n",
       "    }\n",
       "</style>\n",
       "<table border=\"1\" class=\"dataframe\">\n",
       "  <thead>\n",
       "    <tr style=\"text-align: right;\">\n",
       "      <th></th>\n",
       "      <th>Month/Year</th>\n",
       "      <th>License Class</th>\n",
       "      <th>Trips Per Day</th>\n",
       "      <th>Unique Drivers</th>\n",
       "      <th>Unique Vehicles</th>\n",
       "      <th>Vehicles Per Day</th>\n",
       "      <th>Year</th>\n",
       "      <th>Month</th>\n",
       "    </tr>\n",
       "  </thead>\n",
       "  <tbody>\n",
       "    <tr>\n",
       "      <th>1</th>\n",
       "      <td>[2019, 03]</td>\n",
       "      <td>Yellow</td>\n",
       "      <td>252,634</td>\n",
       "      <td>21,956</td>\n",
       "      <td>11,912</td>\n",
       "      <td>10,814</td>\n",
       "      <td>2019</td>\n",
       "      <td>03</td>\n",
       "    </tr>\n",
       "    <tr>\n",
       "      <th>3</th>\n",
       "      <td>[2019, 02]</td>\n",
       "      <td>Yellow</td>\n",
       "      <td>250,654</td>\n",
       "      <td>21,733</td>\n",
       "      <td>11,895</td>\n",
       "      <td>10,770</td>\n",
       "      <td>2019</td>\n",
       "      <td>02</td>\n",
       "    </tr>\n",
       "    <tr>\n",
       "      <th>6</th>\n",
       "      <td>[2019, 01]</td>\n",
       "      <td>Yellow</td>\n",
       "      <td>247,315</td>\n",
       "      <td>22,085</td>\n",
       "      <td>11,867</td>\n",
       "      <td>10,582</td>\n",
       "      <td>2019</td>\n",
       "      <td>01</td>\n",
       "    </tr>\n",
       "    <tr>\n",
       "      <th>12</th>\n",
       "      <td>[2018, 12]</td>\n",
       "      <td>Yellow</td>\n",
       "      <td>263,609</td>\n",
       "      <td>23,042</td>\n",
       "      <td>11,938</td>\n",
       "      <td>10,803</td>\n",
       "      <td>2018</td>\n",
       "      <td>12</td>\n",
       "    </tr>\n",
       "    <tr>\n",
       "      <th>18</th>\n",
       "      <td>[2018, 12]</td>\n",
       "      <td>Yellow</td>\n",
       "      <td>263,609</td>\n",
       "      <td>23,042</td>\n",
       "      <td>11,938</td>\n",
       "      <td>10,803</td>\n",
       "      <td>2018</td>\n",
       "      <td>12</td>\n",
       "    </tr>\n",
       "  </tbody>\n",
       "</table>\n",
       "</div>"
      ],
      "text/plain": [
       "    Month/Year License Class Trips Per Day Unique Drivers Unique Vehicles  \\\n",
       "1   [2019, 03]        Yellow       252,634         21,956          11,912   \n",
       "3   [2019, 02]        Yellow       250,654         21,733          11,895   \n",
       "6   [2019, 01]        Yellow       247,315         22,085          11,867   \n",
       "12  [2018, 12]        Yellow       263,609         23,042          11,938   \n",
       "18  [2018, 12]        Yellow       263,609         23,042          11,938   \n",
       "\n",
       "   Vehicles Per Day  Year Month  \n",
       "1            10,814  2019    03  \n",
       "3            10,770  2019    02  \n",
       "6            10,582  2019    01  \n",
       "12           10,803  2018    12  \n",
       "18           10,803  2018    12  "
      ]
     },
     "execution_count": 518,
     "metadata": {},
     "output_type": "execute_result"
    }
   ],
   "source": [
    "taxi_df.head()"
   ]
  },
  {
   "cell_type": "markdown",
   "metadata": {},
   "source": [
    "Since our ride-hailing data set groups by the TOTAL number of trips in a month rather than the number of trips per day, we want multiply the \"Trips Per Day\" column by the number of days in each respective month so the data-sets can work together"
   ]
  },
  {
   "cell_type": "code",
   "execution_count": 519,
   "metadata": {},
   "outputs": [],
   "source": [
    "taxi_df[\"Days Per Month\"] = taxi_df[\"Month\"]"
   ]
  },
  {
   "cell_type": "code",
   "execution_count": 520,
   "metadata": {},
   "outputs": [],
   "source": [
    "taxi_df[\"Days Per Month\"].replace({\"01\":31, \"02\":28, \"03\":31, \"04\":30, \"05\":31, \"06\":30, \"07\":31, \"08\":31, \n",
    "                                 \"09\":30, \"10\":31, \"11\":30, \"12\":31}, value = None,inplace=True)"
   ]
  },
  {
   "cell_type": "code",
   "execution_count": 521,
   "metadata": {},
   "outputs": [
    {
     "data": {
      "text/html": [
       "<div>\n",
       "<style scoped>\n",
       "    .dataframe tbody tr th:only-of-type {\n",
       "        vertical-align: middle;\n",
       "    }\n",
       "\n",
       "    .dataframe tbody tr th {\n",
       "        vertical-align: top;\n",
       "    }\n",
       "\n",
       "    .dataframe thead th {\n",
       "        text-align: right;\n",
       "    }\n",
       "</style>\n",
       "<table border=\"1\" class=\"dataframe\">\n",
       "  <thead>\n",
       "    <tr style=\"text-align: right;\">\n",
       "      <th></th>\n",
       "      <th>Month/Year</th>\n",
       "      <th>License Class</th>\n",
       "      <th>Trips Per Day</th>\n",
       "      <th>Unique Drivers</th>\n",
       "      <th>Unique Vehicles</th>\n",
       "      <th>Vehicles Per Day</th>\n",
       "      <th>Year</th>\n",
       "      <th>Month</th>\n",
       "      <th>Days Per Month</th>\n",
       "    </tr>\n",
       "  </thead>\n",
       "  <tbody>\n",
       "    <tr>\n",
       "      <th>1</th>\n",
       "      <td>[2019, 03]</td>\n",
       "      <td>Yellow</td>\n",
       "      <td>252,634</td>\n",
       "      <td>21,956</td>\n",
       "      <td>11,912</td>\n",
       "      <td>10,814</td>\n",
       "      <td>2019</td>\n",
       "      <td>03</td>\n",
       "      <td>31</td>\n",
       "    </tr>\n",
       "    <tr>\n",
       "      <th>3</th>\n",
       "      <td>[2019, 02]</td>\n",
       "      <td>Yellow</td>\n",
       "      <td>250,654</td>\n",
       "      <td>21,733</td>\n",
       "      <td>11,895</td>\n",
       "      <td>10,770</td>\n",
       "      <td>2019</td>\n",
       "      <td>02</td>\n",
       "      <td>28</td>\n",
       "    </tr>\n",
       "    <tr>\n",
       "      <th>6</th>\n",
       "      <td>[2019, 01]</td>\n",
       "      <td>Yellow</td>\n",
       "      <td>247,315</td>\n",
       "      <td>22,085</td>\n",
       "      <td>11,867</td>\n",
       "      <td>10,582</td>\n",
       "      <td>2019</td>\n",
       "      <td>01</td>\n",
       "      <td>31</td>\n",
       "    </tr>\n",
       "    <tr>\n",
       "      <th>12</th>\n",
       "      <td>[2018, 12]</td>\n",
       "      <td>Yellow</td>\n",
       "      <td>263,609</td>\n",
       "      <td>23,042</td>\n",
       "      <td>11,938</td>\n",
       "      <td>10,803</td>\n",
       "      <td>2018</td>\n",
       "      <td>12</td>\n",
       "      <td>31</td>\n",
       "    </tr>\n",
       "    <tr>\n",
       "      <th>18</th>\n",
       "      <td>[2018, 12]</td>\n",
       "      <td>Yellow</td>\n",
       "      <td>263,609</td>\n",
       "      <td>23,042</td>\n",
       "      <td>11,938</td>\n",
       "      <td>10,803</td>\n",
       "      <td>2018</td>\n",
       "      <td>12</td>\n",
       "      <td>31</td>\n",
       "    </tr>\n",
       "  </tbody>\n",
       "</table>\n",
       "</div>"
      ],
      "text/plain": [
       "    Month/Year License Class Trips Per Day Unique Drivers Unique Vehicles  \\\n",
       "1   [2019, 03]        Yellow       252,634         21,956          11,912   \n",
       "3   [2019, 02]        Yellow       250,654         21,733          11,895   \n",
       "6   [2019, 01]        Yellow       247,315         22,085          11,867   \n",
       "12  [2018, 12]        Yellow       263,609         23,042          11,938   \n",
       "18  [2018, 12]        Yellow       263,609         23,042          11,938   \n",
       "\n",
       "   Vehicles Per Day  Year Month  Days Per Month  \n",
       "1            10,814  2019    03              31  \n",
       "3            10,770  2019    02              28  \n",
       "6            10,582  2019    01              31  \n",
       "12           10,803  2018    12              31  \n",
       "18           10,803  2018    12              31  "
      ]
     },
     "execution_count": 521,
     "metadata": {},
     "output_type": "execute_result"
    }
   ],
   "source": [
    "taxi_df.head()"
   ]
  },
  {
   "cell_type": "markdown",
   "metadata": {},
   "source": [
    "Our \"Trips Per Day\" column is a string and we need it to be an integer in order to multiply it by the number of days per month. First we must strip out the commas and then we can convert the type."
   ]
  },
  {
   "cell_type": "code",
   "execution_count": 522,
   "metadata": {},
   "outputs": [],
   "source": [
    "taxi_df[\"Trips Per Day\"] = taxi_df['Trips Per Day'].str.replace(',', '')\n",
    "\n",
    "taxi_df[\"Trips Per Day\"] = taxi_df[\"Trips Per Day\"].astype('int64', copy=False)"
   ]
  },
  {
   "cell_type": "code",
   "execution_count": 523,
   "metadata": {},
   "outputs": [],
   "source": [
    "taxi_df['Total Dispatched Trips'] = taxi_df[\"Trips Per Day\"] * taxi_df[\"Days Per Month\"]"
   ]
  },
  {
   "cell_type": "code",
   "execution_count": 524,
   "metadata": {},
   "outputs": [
    {
     "data": {
      "text/html": [
       "<div>\n",
       "<style scoped>\n",
       "    .dataframe tbody tr th:only-of-type {\n",
       "        vertical-align: middle;\n",
       "    }\n",
       "\n",
       "    .dataframe tbody tr th {\n",
       "        vertical-align: top;\n",
       "    }\n",
       "\n",
       "    .dataframe thead th {\n",
       "        text-align: right;\n",
       "    }\n",
       "</style>\n",
       "<table border=\"1\" class=\"dataframe\">\n",
       "  <thead>\n",
       "    <tr style=\"text-align: right;\">\n",
       "      <th></th>\n",
       "      <th>Month/Year</th>\n",
       "      <th>License Class</th>\n",
       "      <th>Trips Per Day</th>\n",
       "      <th>Unique Drivers</th>\n",
       "      <th>Unique Vehicles</th>\n",
       "      <th>Vehicles Per Day</th>\n",
       "      <th>Year</th>\n",
       "      <th>Month</th>\n",
       "      <th>Days Per Month</th>\n",
       "      <th>Total Dispatched Trips</th>\n",
       "    </tr>\n",
       "  </thead>\n",
       "  <tbody>\n",
       "    <tr>\n",
       "      <th>1</th>\n",
       "      <td>[2019, 03]</td>\n",
       "      <td>Yellow</td>\n",
       "      <td>252634</td>\n",
       "      <td>21,956</td>\n",
       "      <td>11,912</td>\n",
       "      <td>10,814</td>\n",
       "      <td>2019</td>\n",
       "      <td>03</td>\n",
       "      <td>31</td>\n",
       "      <td>7831654</td>\n",
       "    </tr>\n",
       "    <tr>\n",
       "      <th>3</th>\n",
       "      <td>[2019, 02]</td>\n",
       "      <td>Yellow</td>\n",
       "      <td>250654</td>\n",
       "      <td>21,733</td>\n",
       "      <td>11,895</td>\n",
       "      <td>10,770</td>\n",
       "      <td>2019</td>\n",
       "      <td>02</td>\n",
       "      <td>28</td>\n",
       "      <td>7018312</td>\n",
       "    </tr>\n",
       "    <tr>\n",
       "      <th>6</th>\n",
       "      <td>[2019, 01]</td>\n",
       "      <td>Yellow</td>\n",
       "      <td>247315</td>\n",
       "      <td>22,085</td>\n",
       "      <td>11,867</td>\n",
       "      <td>10,582</td>\n",
       "      <td>2019</td>\n",
       "      <td>01</td>\n",
       "      <td>31</td>\n",
       "      <td>7666765</td>\n",
       "    </tr>\n",
       "    <tr>\n",
       "      <th>12</th>\n",
       "      <td>[2018, 12]</td>\n",
       "      <td>Yellow</td>\n",
       "      <td>263609</td>\n",
       "      <td>23,042</td>\n",
       "      <td>11,938</td>\n",
       "      <td>10,803</td>\n",
       "      <td>2018</td>\n",
       "      <td>12</td>\n",
       "      <td>31</td>\n",
       "      <td>8171879</td>\n",
       "    </tr>\n",
       "    <tr>\n",
       "      <th>18</th>\n",
       "      <td>[2018, 12]</td>\n",
       "      <td>Yellow</td>\n",
       "      <td>263609</td>\n",
       "      <td>23,042</td>\n",
       "      <td>11,938</td>\n",
       "      <td>10,803</td>\n",
       "      <td>2018</td>\n",
       "      <td>12</td>\n",
       "      <td>31</td>\n",
       "      <td>8171879</td>\n",
       "    </tr>\n",
       "  </tbody>\n",
       "</table>\n",
       "</div>"
      ],
      "text/plain": [
       "    Month/Year License Class  Trips Per Day Unique Drivers Unique Vehicles  \\\n",
       "1   [2019, 03]        Yellow         252634         21,956          11,912   \n",
       "3   [2019, 02]        Yellow         250654         21,733          11,895   \n",
       "6   [2019, 01]        Yellow         247315         22,085          11,867   \n",
       "12  [2018, 12]        Yellow         263609         23,042          11,938   \n",
       "18  [2018, 12]        Yellow         263609         23,042          11,938   \n",
       "\n",
       "   Vehicles Per Day  Year Month  Days Per Month  Total Dispatched Trips  \n",
       "1            10,814  2019    03              31                 7831654  \n",
       "3            10,770  2019    02              28                 7018312  \n",
       "6            10,582  2019    01              31                 7666765  \n",
       "12           10,803  2018    12              31                 8171879  \n",
       "18           10,803  2018    12              31                 8171879  "
      ]
     },
     "execution_count": 524,
     "metadata": {},
     "output_type": "execute_result"
    }
   ],
   "source": [
    "taxi_df.head()"
   ]
  },
  {
   "cell_type": "markdown",
   "metadata": {},
   "source": [
    "Now we want to group it by year so we can graph it with our ride-hailing data"
   ]
  },
  {
   "cell_type": "code",
   "execution_count": 525,
   "metadata": {},
   "outputs": [],
   "source": [
    "taxi1=taxi_df.groupby(\"Year\")"
   ]
  },
  {
   "cell_type": "code",
   "execution_count": 526,
   "metadata": {},
   "outputs": [],
   "source": [
    "taxi_sum=taxi1.sum()"
   ]
  },
  {
   "cell_type": "code",
   "execution_count": 527,
   "metadata": {},
   "outputs": [
    {
     "data": {
      "text/html": [
       "<div>\n",
       "<style scoped>\n",
       "    .dataframe tbody tr th:only-of-type {\n",
       "        vertical-align: middle;\n",
       "    }\n",
       "\n",
       "    .dataframe tbody tr th {\n",
       "        vertical-align: top;\n",
       "    }\n",
       "\n",
       "    .dataframe thead th {\n",
       "        text-align: right;\n",
       "    }\n",
       "</style>\n",
       "<table border=\"1\" class=\"dataframe\">\n",
       "  <thead>\n",
       "    <tr style=\"text-align: right;\">\n",
       "      <th></th>\n",
       "      <th>Trips Per Day</th>\n",
       "      <th>Days Per Month</th>\n",
       "      <th>Total Dispatched Trips</th>\n",
       "    </tr>\n",
       "    <tr>\n",
       "      <th>Year</th>\n",
       "      <th></th>\n",
       "      <th></th>\n",
       "      <th></th>\n",
       "    </tr>\n",
       "  </thead>\n",
       "  <tbody>\n",
       "    <tr>\n",
       "      <th>2015</th>\n",
       "      <td>9615402</td>\n",
       "      <td>730</td>\n",
       "      <td>292214136</td>\n",
       "    </tr>\n",
       "    <tr>\n",
       "      <th>2016</th>\n",
       "      <td>8607090</td>\n",
       "      <td>730</td>\n",
       "      <td>261578780</td>\n",
       "    </tr>\n",
       "    <tr>\n",
       "      <th>2017</th>\n",
       "      <td>7466992</td>\n",
       "      <td>730</td>\n",
       "      <td>226983294</td>\n",
       "    </tr>\n",
       "    <tr>\n",
       "      <th>2018</th>\n",
       "      <td>6763270</td>\n",
       "      <td>730</td>\n",
       "      <td>205561660</td>\n",
       "    </tr>\n",
       "    <tr>\n",
       "      <th>2019</th>\n",
       "      <td>750603</td>\n",
       "      <td>90</td>\n",
       "      <td>22516731</td>\n",
       "    </tr>\n",
       "  </tbody>\n",
       "</table>\n",
       "</div>"
      ],
      "text/plain": [
       "      Trips Per Day  Days Per Month  Total Dispatched Trips\n",
       "Year                                                       \n",
       "2015        9615402             730               292214136\n",
       "2016        8607090             730               261578780\n",
       "2017        7466992             730               226983294\n",
       "2018        6763270             730               205561660\n",
       "2019         750603              90                22516731"
      ]
     },
     "execution_count": 527,
     "metadata": {},
     "output_type": "execute_result"
    }
   ],
   "source": [
    "taxi_sum.head()"
   ]
  },
  {
   "cell_type": "markdown",
   "metadata": {},
   "source": [
    "We want to drop 2019 since we don't have a full year's data"
   ]
  },
  {
   "cell_type": "code",
   "execution_count": 528,
   "metadata": {},
   "outputs": [],
   "source": [
    "taxi_sum.index =taxi_sum.index.astype(int)"
   ]
  },
  {
   "cell_type": "code",
   "execution_count": 529,
   "metadata": {},
   "outputs": [
    {
     "data": {
      "text/plain": [
       "Int64Index([2015, 2016, 2017, 2018, 2019], dtype='int64', name='Year')"
      ]
     },
     "execution_count": 529,
     "metadata": {},
     "output_type": "execute_result"
    }
   ],
   "source": [
    "taxi_sum.index"
   ]
  },
  {
   "cell_type": "code",
   "execution_count": 530,
   "metadata": {},
   "outputs": [],
   "source": [
    "taxi_sum=taxi_sum.drop(taxi_sum.index[4])"
   ]
  },
  {
   "cell_type": "code",
   "execution_count": 531,
   "metadata": {},
   "outputs": [
    {
     "data": {
      "text/html": [
       "<div>\n",
       "<style scoped>\n",
       "    .dataframe tbody tr th:only-of-type {\n",
       "        vertical-align: middle;\n",
       "    }\n",
       "\n",
       "    .dataframe tbody tr th {\n",
       "        vertical-align: top;\n",
       "    }\n",
       "\n",
       "    .dataframe thead th {\n",
       "        text-align: right;\n",
       "    }\n",
       "</style>\n",
       "<table border=\"1\" class=\"dataframe\">\n",
       "  <thead>\n",
       "    <tr style=\"text-align: right;\">\n",
       "      <th></th>\n",
       "      <th>Trips Per Day</th>\n",
       "      <th>Days Per Month</th>\n",
       "      <th>Total Dispatched Trips</th>\n",
       "    </tr>\n",
       "    <tr>\n",
       "      <th>Year</th>\n",
       "      <th></th>\n",
       "      <th></th>\n",
       "      <th></th>\n",
       "    </tr>\n",
       "  </thead>\n",
       "  <tbody>\n",
       "    <tr>\n",
       "      <th>2015</th>\n",
       "      <td>9615402</td>\n",
       "      <td>730</td>\n",
       "      <td>292214136</td>\n",
       "    </tr>\n",
       "    <tr>\n",
       "      <th>2016</th>\n",
       "      <td>8607090</td>\n",
       "      <td>730</td>\n",
       "      <td>261578780</td>\n",
       "    </tr>\n",
       "    <tr>\n",
       "      <th>2017</th>\n",
       "      <td>7466992</td>\n",
       "      <td>730</td>\n",
       "      <td>226983294</td>\n",
       "    </tr>\n",
       "    <tr>\n",
       "      <th>2018</th>\n",
       "      <td>6763270</td>\n",
       "      <td>730</td>\n",
       "      <td>205561660</td>\n",
       "    </tr>\n",
       "  </tbody>\n",
       "</table>\n",
       "</div>"
      ],
      "text/plain": [
       "      Trips Per Day  Days Per Month  Total Dispatched Trips\n",
       "Year                                                       \n",
       "2015        9615402             730               292214136\n",
       "2016        8607090             730               261578780\n",
       "2017        7466992             730               226983294\n",
       "2018        6763270             730               205561660"
      ]
     },
     "execution_count": 531,
     "metadata": {},
     "output_type": "execute_result"
    }
   ],
   "source": [
    "taxi_sum.head()"
   ]
  },
  {
   "cell_type": "markdown",
   "metadata": {},
   "source": [
    "Now we can finally use this dataset to graph the expected decline in the total number of dispatched taxi trips in comparison to the rise of the total number of dispatched ride-hailing trips!"
   ]
  },
  {
   "cell_type": "markdown",
   "metadata": {},
   "source": [
    "## Now let's clean up our ride-hailing data set..."
   ]
  },
  {
   "cell_type": "markdown",
   "metadata": {},
   "source": [
    "### Defining a fuction to pull info for each ride-hailing app"
   ]
  },
  {
   "cell_type": "code",
   "execution_count": 532,
   "metadata": {},
   "outputs": [],
   "source": [
    "def taxi_app(df,company):\n",
    "    \n",
    "    df_taxi_app = df[df[\"Base Name\"] == company]\n",
    "    # The brand\n",
    "    \n",
    "    return df_taxi_app[[\"Base Name\", \"Year\", \"Month\", \"Month Name\", \"Total Dispatched Trips\", \"Total Dispatched Shared Trips\", \n",
    "                     \"Unique Dispatched Vehicles\"]] #[brand_size.isin([company])]\n",
    "    # This then returns the dataframe that we care about..."
   ]
  },
  {
   "cell_type": "markdown",
   "metadata": {},
   "source": [
    "### Building DataFrames for each app"
   ]
  },
  {
   "cell_type": "code",
   "execution_count": 533,
   "metadata": {},
   "outputs": [],
   "source": [
    "uber=taxi_app(ride_hailing, \"UBER\")"
   ]
  },
  {
   "cell_type": "code",
   "execution_count": 534,
   "metadata": {},
   "outputs": [
    {
     "data": {
      "text/html": [
       "<div>\n",
       "<style scoped>\n",
       "    .dataframe tbody tr th:only-of-type {\n",
       "        vertical-align: middle;\n",
       "    }\n",
       "\n",
       "    .dataframe tbody tr th {\n",
       "        vertical-align: top;\n",
       "    }\n",
       "\n",
       "    .dataframe thead th {\n",
       "        text-align: right;\n",
       "    }\n",
       "</style>\n",
       "<table border=\"1\" class=\"dataframe\">\n",
       "  <thead>\n",
       "    <tr style=\"text-align: right;\">\n",
       "      <th></th>\n",
       "      <th>Base Name</th>\n",
       "      <th>Year</th>\n",
       "      <th>Month</th>\n",
       "      <th>Month Name</th>\n",
       "      <th>Total Dispatched Trips</th>\n",
       "      <th>Total Dispatched Shared Trips</th>\n",
       "      <th>Unique Dispatched Vehicles</th>\n",
       "    </tr>\n",
       "  </thead>\n",
       "  <tbody>\n",
       "    <tr>\n",
       "      <th>584</th>\n",
       "      <td>UBER</td>\n",
       "      <td>2018</td>\n",
       "      <td>10</td>\n",
       "      <td>October</td>\n",
       "      <td>14663999</td>\n",
       "      <td>4045741</td>\n",
       "      <td>75606</td>\n",
       "    </tr>\n",
       "    <tr>\n",
       "      <th>723</th>\n",
       "      <td>UBER</td>\n",
       "      <td>2015</td>\n",
       "      <td>10</td>\n",
       "      <td>October</td>\n",
       "      <td>4359759</td>\n",
       "      <td>0</td>\n",
       "      <td>26875</td>\n",
       "    </tr>\n",
       "    <tr>\n",
       "      <th>1428</th>\n",
       "      <td>UBER</td>\n",
       "      <td>2016</td>\n",
       "      <td>5</td>\n",
       "      <td>May</td>\n",
       "      <td>5391879</td>\n",
       "      <td>0</td>\n",
       "      <td>32505</td>\n",
       "    </tr>\n",
       "    <tr>\n",
       "      <th>1833</th>\n",
       "      <td>UBER</td>\n",
       "      <td>2017</td>\n",
       "      <td>5</td>\n",
       "      <td>May</td>\n",
       "      <td>8794695</td>\n",
       "      <td>0</td>\n",
       "      <td>54465</td>\n",
       "    </tr>\n",
       "    <tr>\n",
       "      <th>2103</th>\n",
       "      <td>UBER</td>\n",
       "      <td>2015</td>\n",
       "      <td>1</td>\n",
       "      <td>January</td>\n",
       "      <td>1871075</td>\n",
       "      <td>0</td>\n",
       "      <td>12544</td>\n",
       "    </tr>\n",
       "  </tbody>\n",
       "</table>\n",
       "</div>"
      ],
      "text/plain": [
       "     Base Name  Year  Month Month Name  Total Dispatched Trips  \\\n",
       "584       UBER  2018     10    October                14663999   \n",
       "723       UBER  2015     10    October                 4359759   \n",
       "1428      UBER  2016      5        May                 5391879   \n",
       "1833      UBER  2017      5        May                 8794695   \n",
       "2103      UBER  2015      1    January                 1871075   \n",
       "\n",
       "      Total Dispatched Shared Trips  Unique Dispatched Vehicles  \n",
       "584                         4045741                       75606  \n",
       "723                               0                       26875  \n",
       "1428                              0                       32505  \n",
       "1833                              0                       54465  \n",
       "2103                              0                       12544  "
      ]
     },
     "execution_count": 534,
     "metadata": {},
     "output_type": "execute_result"
    }
   ],
   "source": [
    "uber.head()"
   ]
  },
  {
   "cell_type": "code",
   "execution_count": 535,
   "metadata": {},
   "outputs": [],
   "source": [
    "lyft=taxi_app(ride_hailing, \"LYFT\")"
   ]
  },
  {
   "cell_type": "code",
   "execution_count": 536,
   "metadata": {},
   "outputs": [
    {
     "data": {
      "text/html": [
       "<div>\n",
       "<style scoped>\n",
       "    .dataframe tbody tr th:only-of-type {\n",
       "        vertical-align: middle;\n",
       "    }\n",
       "\n",
       "    .dataframe tbody tr th {\n",
       "        vertical-align: top;\n",
       "    }\n",
       "\n",
       "    .dataframe thead th {\n",
       "        text-align: right;\n",
       "    }\n",
       "</style>\n",
       "<table border=\"1\" class=\"dataframe\">\n",
       "  <thead>\n",
       "    <tr style=\"text-align: right;\">\n",
       "      <th></th>\n",
       "      <th>Base Name</th>\n",
       "      <th>Year</th>\n",
       "      <th>Month</th>\n",
       "      <th>Month Name</th>\n",
       "      <th>Total Dispatched Trips</th>\n",
       "      <th>Total Dispatched Shared Trips</th>\n",
       "      <th>Unique Dispatched Vehicles</th>\n",
       "    </tr>\n",
       "  </thead>\n",
       "  <tbody>\n",
       "    <tr>\n",
       "      <th>401</th>\n",
       "      <td>LYFT</td>\n",
       "      <td>2016</td>\n",
       "      <td>3</td>\n",
       "      <td>March</td>\n",
       "      <td>691455</td>\n",
       "      <td>0</td>\n",
       "      <td>9266</td>\n",
       "    </tr>\n",
       "    <tr>\n",
       "      <th>1148</th>\n",
       "      <td>LYFT</td>\n",
       "      <td>2018</td>\n",
       "      <td>6</td>\n",
       "      <td>June</td>\n",
       "      <td>3664808</td>\n",
       "      <td>602496</td>\n",
       "      <td>39519</td>\n",
       "    </tr>\n",
       "    <tr>\n",
       "      <th>1637</th>\n",
       "      <td>LYFT</td>\n",
       "      <td>2018</td>\n",
       "      <td>5</td>\n",
       "      <td>May</td>\n",
       "      <td>3400356</td>\n",
       "      <td>540029</td>\n",
       "      <td>38628</td>\n",
       "    </tr>\n",
       "    <tr>\n",
       "      <th>2228</th>\n",
       "      <td>LYFT</td>\n",
       "      <td>2016</td>\n",
       "      <td>10</td>\n",
       "      <td>October</td>\n",
       "      <td>1112748</td>\n",
       "      <td>0</td>\n",
       "      <td>15926</td>\n",
       "    </tr>\n",
       "    <tr>\n",
       "      <th>2991</th>\n",
       "      <td>LYFT</td>\n",
       "      <td>2016</td>\n",
       "      <td>8</td>\n",
       "      <td>August</td>\n",
       "      <td>1095428</td>\n",
       "      <td>0</td>\n",
       "      <td>15033</td>\n",
       "    </tr>\n",
       "  </tbody>\n",
       "</table>\n",
       "</div>"
      ],
      "text/plain": [
       "     Base Name  Year  Month Month Name  Total Dispatched Trips  \\\n",
       "401       LYFT  2016      3      March                  691455   \n",
       "1148      LYFT  2018      6       June                 3664808   \n",
       "1637      LYFT  2018      5        May                 3400356   \n",
       "2228      LYFT  2016     10    October                 1112748   \n",
       "2991      LYFT  2016      8     August                 1095428   \n",
       "\n",
       "      Total Dispatched Shared Trips  Unique Dispatched Vehicles  \n",
       "401                               0                        9266  \n",
       "1148                         602496                       39519  \n",
       "1637                         540029                       38628  \n",
       "2228                              0                       15926  \n",
       "2991                              0                       15033  "
      ]
     },
     "execution_count": 536,
     "metadata": {},
     "output_type": "execute_result"
    }
   ],
   "source": [
    "lyft.head()"
   ]
  },
  {
   "cell_type": "code",
   "execution_count": 537,
   "metadata": {},
   "outputs": [],
   "source": [
    "juno=taxi_app(ride_hailing, \"JUNO\")"
   ]
  },
  {
   "cell_type": "code",
   "execution_count": 538,
   "metadata": {},
   "outputs": [
    {
     "data": {
      "text/html": [
       "<div>\n",
       "<style scoped>\n",
       "    .dataframe tbody tr th:only-of-type {\n",
       "        vertical-align: middle;\n",
       "    }\n",
       "\n",
       "    .dataframe tbody tr th {\n",
       "        vertical-align: top;\n",
       "    }\n",
       "\n",
       "    .dataframe thead th {\n",
       "        text-align: right;\n",
       "    }\n",
       "</style>\n",
       "<table border=\"1\" class=\"dataframe\">\n",
       "  <thead>\n",
       "    <tr style=\"text-align: right;\">\n",
       "      <th></th>\n",
       "      <th>Base Name</th>\n",
       "      <th>Year</th>\n",
       "      <th>Month</th>\n",
       "      <th>Month Name</th>\n",
       "      <th>Total Dispatched Trips</th>\n",
       "      <th>Total Dispatched Shared Trips</th>\n",
       "      <th>Unique Dispatched Vehicles</th>\n",
       "    </tr>\n",
       "  </thead>\n",
       "  <tbody>\n",
       "    <tr>\n",
       "      <th>1149</th>\n",
       "      <td>JUNO</td>\n",
       "      <td>2017</td>\n",
       "      <td>1</td>\n",
       "      <td>January</td>\n",
       "      <td>950588</td>\n",
       "      <td>0</td>\n",
       "      <td>17808</td>\n",
       "    </tr>\n",
       "    <tr>\n",
       "      <th>1444</th>\n",
       "      <td>JUNO</td>\n",
       "      <td>2018</td>\n",
       "      <td>7</td>\n",
       "      <td>July</td>\n",
       "      <td>1018602</td>\n",
       "      <td>0</td>\n",
       "      <td>21380</td>\n",
       "    </tr>\n",
       "    <tr>\n",
       "      <th>1528</th>\n",
       "      <td>JUNO</td>\n",
       "      <td>2017</td>\n",
       "      <td>11</td>\n",
       "      <td>November</td>\n",
       "      <td>1163709</td>\n",
       "      <td>0</td>\n",
       "      <td>20714</td>\n",
       "    </tr>\n",
       "    <tr>\n",
       "      <th>1879</th>\n",
       "      <td>JUNO</td>\n",
       "      <td>2018</td>\n",
       "      <td>11</td>\n",
       "      <td>November</td>\n",
       "      <td>1048668</td>\n",
       "      <td>0</td>\n",
       "      <td>20750</td>\n",
       "    </tr>\n",
       "    <tr>\n",
       "      <th>2207</th>\n",
       "      <td>JUNO</td>\n",
       "      <td>2017</td>\n",
       "      <td>9</td>\n",
       "      <td>September</td>\n",
       "      <td>1069736</td>\n",
       "      <td>0</td>\n",
       "      <td>19059</td>\n",
       "    </tr>\n",
       "  </tbody>\n",
       "</table>\n",
       "</div>"
      ],
      "text/plain": [
       "     Base Name  Year  Month Month Name  Total Dispatched Trips  \\\n",
       "1149      JUNO  2017      1    January                  950588   \n",
       "1444      JUNO  2018      7       July                 1018602   \n",
       "1528      JUNO  2017     11   November                 1163709   \n",
       "1879      JUNO  2018     11   November                 1048668   \n",
       "2207      JUNO  2017      9  September                 1069736   \n",
       "\n",
       "      Total Dispatched Shared Trips  Unique Dispatched Vehicles  \n",
       "1149                              0                       17808  \n",
       "1444                              0                       21380  \n",
       "1528                              0                       20714  \n",
       "1879                              0                       20750  \n",
       "2207                              0                       19059  "
      ]
     },
     "execution_count": 538,
     "metadata": {},
     "output_type": "execute_result"
    }
   ],
   "source": [
    "juno.head()"
   ]
  },
  {
   "cell_type": "code",
   "execution_count": 539,
   "metadata": {},
   "outputs": [],
   "source": [
    "via=taxi_app(ride_hailing, \"VIA\")"
   ]
  },
  {
   "cell_type": "code",
   "execution_count": 540,
   "metadata": {},
   "outputs": [
    {
     "data": {
      "text/html": [
       "<div>\n",
       "<style scoped>\n",
       "    .dataframe tbody tr th:only-of-type {\n",
       "        vertical-align: middle;\n",
       "    }\n",
       "\n",
       "    .dataframe tbody tr th {\n",
       "        vertical-align: top;\n",
       "    }\n",
       "\n",
       "    .dataframe thead th {\n",
       "        text-align: right;\n",
       "    }\n",
       "</style>\n",
       "<table border=\"1\" class=\"dataframe\">\n",
       "  <thead>\n",
       "    <tr style=\"text-align: right;\">\n",
       "      <th></th>\n",
       "      <th>Base Name</th>\n",
       "      <th>Year</th>\n",
       "      <th>Month</th>\n",
       "      <th>Month Name</th>\n",
       "      <th>Total Dispatched Trips</th>\n",
       "      <th>Total Dispatched Shared Trips</th>\n",
       "      <th>Unique Dispatched Vehicles</th>\n",
       "    </tr>\n",
       "  </thead>\n",
       "  <tbody>\n",
       "    <tr>\n",
       "      <th>554</th>\n",
       "      <td>VIA</td>\n",
       "      <td>2018</td>\n",
       "      <td>1</td>\n",
       "      <td>January</td>\n",
       "      <td>1016794</td>\n",
       "      <td>662745</td>\n",
       "      <td>5697</td>\n",
       "    </tr>\n",
       "    <tr>\n",
       "      <th>799</th>\n",
       "      <td>VIA</td>\n",
       "      <td>2017</td>\n",
       "      <td>8</td>\n",
       "      <td>August</td>\n",
       "      <td>984296</td>\n",
       "      <td>649083</td>\n",
       "      <td>4693</td>\n",
       "    </tr>\n",
       "    <tr>\n",
       "      <th>882</th>\n",
       "      <td>VIA</td>\n",
       "      <td>2018</td>\n",
       "      <td>6</td>\n",
       "      <td>June</td>\n",
       "      <td>744501</td>\n",
       "      <td>496676</td>\n",
       "      <td>5752</td>\n",
       "    </tr>\n",
       "    <tr>\n",
       "      <th>1251</th>\n",
       "      <td>VIA</td>\n",
       "      <td>2016</td>\n",
       "      <td>10</td>\n",
       "      <td>October</td>\n",
       "      <td>655551</td>\n",
       "      <td>0</td>\n",
       "      <td>2851</td>\n",
       "    </tr>\n",
       "    <tr>\n",
       "      <th>1865</th>\n",
       "      <td>VIA</td>\n",
       "      <td>2015</td>\n",
       "      <td>6</td>\n",
       "      <td>June</td>\n",
       "      <td>155658</td>\n",
       "      <td>0</td>\n",
       "      <td>665</td>\n",
       "    </tr>\n",
       "  </tbody>\n",
       "</table>\n",
       "</div>"
      ],
      "text/plain": [
       "     Base Name  Year  Month Month Name  Total Dispatched Trips  \\\n",
       "554        VIA  2018      1    January                 1016794   \n",
       "799        VIA  2017      8     August                  984296   \n",
       "882        VIA  2018      6       June                  744501   \n",
       "1251       VIA  2016     10    October                  655551   \n",
       "1865       VIA  2015      6       June                  155658   \n",
       "\n",
       "      Total Dispatched Shared Trips  Unique Dispatched Vehicles  \n",
       "554                          662745                        5697  \n",
       "799                          649083                        4693  \n",
       "882                          496676                        5752  \n",
       "1251                              0                        2851  \n",
       "1865                              0                         665  "
      ]
     },
     "execution_count": 540,
     "metadata": {},
     "output_type": "execute_result"
    }
   ],
   "source": [
    "via.head()"
   ]
  },
  {
   "cell_type": "markdown",
   "metadata": {},
   "source": [
    "I will have to group data into years since it is currently divided up by month as you can see."
   ]
  },
  {
   "cell_type": "markdown",
   "metadata": {},
   "source": [
    "### Grouping the data by Year"
   ]
  },
  {
   "cell_type": "markdown",
   "metadata": {},
   "source": [
    "#### JUNO"
   ]
  },
  {
   "cell_type": "code",
   "execution_count": 541,
   "metadata": {},
   "outputs": [],
   "source": [
    "juno.set_index(\"Year\", inplace=True)"
   ]
  },
  {
   "cell_type": "code",
   "execution_count": 542,
   "metadata": {},
   "outputs": [],
   "source": [
    "juno1=juno.groupby(['Year'])"
   ]
  },
  {
   "cell_type": "code",
   "execution_count": 543,
   "metadata": {},
   "outputs": [],
   "source": [
    "juno_sum=juno1.sum()"
   ]
  },
  {
   "cell_type": "code",
   "execution_count": 544,
   "metadata": {},
   "outputs": [
    {
     "data": {
      "text/html": [
       "<div>\n",
       "<style scoped>\n",
       "    .dataframe tbody tr th:only-of-type {\n",
       "        vertical-align: middle;\n",
       "    }\n",
       "\n",
       "    .dataframe tbody tr th {\n",
       "        vertical-align: top;\n",
       "    }\n",
       "\n",
       "    .dataframe thead th {\n",
       "        text-align: right;\n",
       "    }\n",
       "</style>\n",
       "<table border=\"1\" class=\"dataframe\">\n",
       "  <thead>\n",
       "    <tr style=\"text-align: right;\">\n",
       "      <th></th>\n",
       "      <th>Month</th>\n",
       "      <th>Total Dispatched Trips</th>\n",
       "      <th>Total Dispatched Shared Trips</th>\n",
       "      <th>Unique Dispatched Vehicles</th>\n",
       "    </tr>\n",
       "    <tr>\n",
       "      <th>Year</th>\n",
       "      <th></th>\n",
       "      <th></th>\n",
       "      <th></th>\n",
       "      <th></th>\n",
       "    </tr>\n",
       "  </thead>\n",
       "  <tbody>\n",
       "    <tr>\n",
       "      <th>2016</th>\n",
       "      <td>75</td>\n",
       "      <td>5083708</td>\n",
       "      <td>0</td>\n",
       "      <td>106748</td>\n",
       "    </tr>\n",
       "    <tr>\n",
       "      <th>2017</th>\n",
       "      <td>78</td>\n",
       "      <td>12537031</td>\n",
       "      <td>0</td>\n",
       "      <td>237889</td>\n",
       "    </tr>\n",
       "    <tr>\n",
       "      <th>2018</th>\n",
       "      <td>78</td>\n",
       "      <td>13813009</td>\n",
       "      <td>0</td>\n",
       "      <td>255375</td>\n",
       "    </tr>\n",
       "    <tr>\n",
       "      <th>2019</th>\n",
       "      <td>1</td>\n",
       "      <td>1235565</td>\n",
       "      <td>0</td>\n",
       "      <td>21768</td>\n",
       "    </tr>\n",
       "  </tbody>\n",
       "</table>\n",
       "</div>"
      ],
      "text/plain": [
       "      Month  Total Dispatched Trips  Total Dispatched Shared Trips  \\\n",
       "Year                                                                 \n",
       "2016     75                 5083708                              0   \n",
       "2017     78                12537031                              0   \n",
       "2018     78                13813009                              0   \n",
       "2019      1                 1235565                              0   \n",
       "\n",
       "      Unique Dispatched Vehicles  \n",
       "Year                              \n",
       "2016                      106748  \n",
       "2017                      237889  \n",
       "2018                      255375  \n",
       "2019                       21768  "
      ]
     },
     "execution_count": 544,
     "metadata": {},
     "output_type": "execute_result"
    }
   ],
   "source": [
    "juno_sum"
   ]
  },
  {
   "cell_type": "code",
   "execution_count": 545,
   "metadata": {},
   "outputs": [],
   "source": [
    "juno_sum=juno_sum.drop(juno_sum.index[3])"
   ]
  },
  {
   "cell_type": "code",
   "execution_count": 546,
   "metadata": {},
   "outputs": [
    {
     "data": {
      "text/html": [
       "<div>\n",
       "<style scoped>\n",
       "    .dataframe tbody tr th:only-of-type {\n",
       "        vertical-align: middle;\n",
       "    }\n",
       "\n",
       "    .dataframe tbody tr th {\n",
       "        vertical-align: top;\n",
       "    }\n",
       "\n",
       "    .dataframe thead th {\n",
       "        text-align: right;\n",
       "    }\n",
       "</style>\n",
       "<table border=\"1\" class=\"dataframe\">\n",
       "  <thead>\n",
       "    <tr style=\"text-align: right;\">\n",
       "      <th></th>\n",
       "      <th>Month</th>\n",
       "      <th>Total Dispatched Trips</th>\n",
       "      <th>Total Dispatched Shared Trips</th>\n",
       "      <th>Unique Dispatched Vehicles</th>\n",
       "    </tr>\n",
       "    <tr>\n",
       "      <th>Year</th>\n",
       "      <th></th>\n",
       "      <th></th>\n",
       "      <th></th>\n",
       "      <th></th>\n",
       "    </tr>\n",
       "  </thead>\n",
       "  <tbody>\n",
       "    <tr>\n",
       "      <th>2016</th>\n",
       "      <td>75</td>\n",
       "      <td>5083708</td>\n",
       "      <td>0</td>\n",
       "      <td>106748</td>\n",
       "    </tr>\n",
       "    <tr>\n",
       "      <th>2017</th>\n",
       "      <td>78</td>\n",
       "      <td>12537031</td>\n",
       "      <td>0</td>\n",
       "      <td>237889</td>\n",
       "    </tr>\n",
       "    <tr>\n",
       "      <th>2018</th>\n",
       "      <td>78</td>\n",
       "      <td>13813009</td>\n",
       "      <td>0</td>\n",
       "      <td>255375</td>\n",
       "    </tr>\n",
       "  </tbody>\n",
       "</table>\n",
       "</div>"
      ],
      "text/plain": [
       "      Month  Total Dispatched Trips  Total Dispatched Shared Trips  \\\n",
       "Year                                                                 \n",
       "2016     75                 5083708                              0   \n",
       "2017     78                12537031                              0   \n",
       "2018     78                13813009                              0   \n",
       "\n",
       "      Unique Dispatched Vehicles  \n",
       "Year                              \n",
       "2016                      106748  \n",
       "2017                      237889  \n",
       "2018                      255375  "
      ]
     },
     "execution_count": 546,
     "metadata": {},
     "output_type": "execute_result"
    }
   ],
   "source": [
    "juno_sum"
   ]
  },
  {
   "cell_type": "markdown",
   "metadata": {},
   "source": [
    "#### Lyft"
   ]
  },
  {
   "cell_type": "code",
   "execution_count": 547,
   "metadata": {},
   "outputs": [],
   "source": [
    "lyft1=lyft.groupby('Year')"
   ]
  },
  {
   "cell_type": "code",
   "execution_count": 548,
   "metadata": {},
   "outputs": [],
   "source": [
    "lyft_sum=lyft1.sum()"
   ]
  },
  {
   "cell_type": "code",
   "execution_count": 549,
   "metadata": {},
   "outputs": [
    {
     "data": {
      "text/html": [
       "<div>\n",
       "<style scoped>\n",
       "    .dataframe tbody tr th:only-of-type {\n",
       "        vertical-align: middle;\n",
       "    }\n",
       "\n",
       "    .dataframe tbody tr th {\n",
       "        vertical-align: top;\n",
       "    }\n",
       "\n",
       "    .dataframe thead th {\n",
       "        text-align: right;\n",
       "    }\n",
       "</style>\n",
       "<table border=\"1\" class=\"dataframe\">\n",
       "  <thead>\n",
       "    <tr style=\"text-align: right;\">\n",
       "      <th></th>\n",
       "      <th>Month</th>\n",
       "      <th>Total Dispatched Trips</th>\n",
       "      <th>Total Dispatched Shared Trips</th>\n",
       "      <th>Unique Dispatched Vehicles</th>\n",
       "    </tr>\n",
       "    <tr>\n",
       "      <th>Year</th>\n",
       "      <th></th>\n",
       "      <th></th>\n",
       "      <th></th>\n",
       "      <th></th>\n",
       "    </tr>\n",
       "  </thead>\n",
       "  <tbody>\n",
       "    <tr>\n",
       "      <th>2015</th>\n",
       "      <td>72</td>\n",
       "      <td>2615481</td>\n",
       "      <td>0</td>\n",
       "      <td>43196</td>\n",
       "    </tr>\n",
       "    <tr>\n",
       "      <th>2016</th>\n",
       "      <td>78</td>\n",
       "      <td>11415958</td>\n",
       "      <td>0</td>\n",
       "      <td>162843</td>\n",
       "    </tr>\n",
       "    <tr>\n",
       "      <th>2017</th>\n",
       "      <td>78</td>\n",
       "      <td>26361098</td>\n",
       "      <td>3261655</td>\n",
       "      <td>332211</td>\n",
       "    </tr>\n",
       "    <tr>\n",
       "      <th>2018</th>\n",
       "      <td>78</td>\n",
       "      <td>44823801</td>\n",
       "      <td>7776283</td>\n",
       "      <td>494968</td>\n",
       "    </tr>\n",
       "    <tr>\n",
       "      <th>2019</th>\n",
       "      <td>1</td>\n",
       "      <td>4623412</td>\n",
       "      <td>709716</td>\n",
       "      <td>50099</td>\n",
       "    </tr>\n",
       "  </tbody>\n",
       "</table>\n",
       "</div>"
      ],
      "text/plain": [
       "      Month  Total Dispatched Trips  Total Dispatched Shared Trips  \\\n",
       "Year                                                                 \n",
       "2015     72                 2615481                              0   \n",
       "2016     78                11415958                              0   \n",
       "2017     78                26361098                        3261655   \n",
       "2018     78                44823801                        7776283   \n",
       "2019      1                 4623412                         709716   \n",
       "\n",
       "      Unique Dispatched Vehicles  \n",
       "Year                              \n",
       "2015                       43196  \n",
       "2016                      162843  \n",
       "2017                      332211  \n",
       "2018                      494968  \n",
       "2019                       50099  "
      ]
     },
     "execution_count": 549,
     "metadata": {},
     "output_type": "execute_result"
    }
   ],
   "source": [
    "lyft_sum"
   ]
  },
  {
   "cell_type": "code",
   "execution_count": 550,
   "metadata": {},
   "outputs": [],
   "source": [
    "lyft_sum=lyft_sum.drop(lyft_sum.index[4])"
   ]
  },
  {
   "cell_type": "code",
   "execution_count": 551,
   "metadata": {},
   "outputs": [
    {
     "data": {
      "text/html": [
       "<div>\n",
       "<style scoped>\n",
       "    .dataframe tbody tr th:only-of-type {\n",
       "        vertical-align: middle;\n",
       "    }\n",
       "\n",
       "    .dataframe tbody tr th {\n",
       "        vertical-align: top;\n",
       "    }\n",
       "\n",
       "    .dataframe thead th {\n",
       "        text-align: right;\n",
       "    }\n",
       "</style>\n",
       "<table border=\"1\" class=\"dataframe\">\n",
       "  <thead>\n",
       "    <tr style=\"text-align: right;\">\n",
       "      <th></th>\n",
       "      <th>Month</th>\n",
       "      <th>Total Dispatched Trips</th>\n",
       "      <th>Total Dispatched Shared Trips</th>\n",
       "      <th>Unique Dispatched Vehicles</th>\n",
       "    </tr>\n",
       "    <tr>\n",
       "      <th>Year</th>\n",
       "      <th></th>\n",
       "      <th></th>\n",
       "      <th></th>\n",
       "      <th></th>\n",
       "    </tr>\n",
       "  </thead>\n",
       "  <tbody>\n",
       "    <tr>\n",
       "      <th>2015</th>\n",
       "      <td>72</td>\n",
       "      <td>2615481</td>\n",
       "      <td>0</td>\n",
       "      <td>43196</td>\n",
       "    </tr>\n",
       "    <tr>\n",
       "      <th>2016</th>\n",
       "      <td>78</td>\n",
       "      <td>11415958</td>\n",
       "      <td>0</td>\n",
       "      <td>162843</td>\n",
       "    </tr>\n",
       "    <tr>\n",
       "      <th>2017</th>\n",
       "      <td>78</td>\n",
       "      <td>26361098</td>\n",
       "      <td>3261655</td>\n",
       "      <td>332211</td>\n",
       "    </tr>\n",
       "    <tr>\n",
       "      <th>2018</th>\n",
       "      <td>78</td>\n",
       "      <td>44823801</td>\n",
       "      <td>7776283</td>\n",
       "      <td>494968</td>\n",
       "    </tr>\n",
       "  </tbody>\n",
       "</table>\n",
       "</div>"
      ],
      "text/plain": [
       "      Month  Total Dispatched Trips  Total Dispatched Shared Trips  \\\n",
       "Year                                                                 \n",
       "2015     72                 2615481                              0   \n",
       "2016     78                11415958                              0   \n",
       "2017     78                26361098                        3261655   \n",
       "2018     78                44823801                        7776283   \n",
       "\n",
       "      Unique Dispatched Vehicles  \n",
       "Year                              \n",
       "2015                       43196  \n",
       "2016                      162843  \n",
       "2017                      332211  \n",
       "2018                      494968  "
      ]
     },
     "execution_count": 551,
     "metadata": {},
     "output_type": "execute_result"
    }
   ],
   "source": [
    "lyft_sum"
   ]
  },
  {
   "cell_type": "markdown",
   "metadata": {},
   "source": [
    "#### Uber"
   ]
  },
  {
   "cell_type": "code",
   "execution_count": 552,
   "metadata": {},
   "outputs": [],
   "source": [
    "uber1=uber.groupby(\"Year\")"
   ]
  },
  {
   "cell_type": "code",
   "execution_count": 553,
   "metadata": {},
   "outputs": [],
   "source": [
    "uber_sum=uber1.sum()"
   ]
  },
  {
   "cell_type": "code",
   "execution_count": 554,
   "metadata": {},
   "outputs": [
    {
     "data": {
      "text/html": [
       "<div>\n",
       "<style scoped>\n",
       "    .dataframe tbody tr th:only-of-type {\n",
       "        vertical-align: middle;\n",
       "    }\n",
       "\n",
       "    .dataframe tbody tr th {\n",
       "        vertical-align: top;\n",
       "    }\n",
       "\n",
       "    .dataframe thead th {\n",
       "        text-align: right;\n",
       "    }\n",
       "</style>\n",
       "<table border=\"1\" class=\"dataframe\">\n",
       "  <thead>\n",
       "    <tr style=\"text-align: right;\">\n",
       "      <th></th>\n",
       "      <th>Month</th>\n",
       "      <th>Total Dispatched Trips</th>\n",
       "      <th>Total Dispatched Shared Trips</th>\n",
       "      <th>Unique Dispatched Vehicles</th>\n",
       "    </tr>\n",
       "    <tr>\n",
       "      <th>Year</th>\n",
       "      <th></th>\n",
       "      <th></th>\n",
       "      <th></th>\n",
       "      <th></th>\n",
       "    </tr>\n",
       "  </thead>\n",
       "  <tbody>\n",
       "    <tr>\n",
       "      <th>2015</th>\n",
       "      <td>78</td>\n",
       "      <td>36275937</td>\n",
       "      <td>0</td>\n",
       "      <td>239798</td>\n",
       "    </tr>\n",
       "    <tr>\n",
       "      <th>2016</th>\n",
       "      <td>78</td>\n",
       "      <td>70067854</td>\n",
       "      <td>0</td>\n",
       "      <td>441948</td>\n",
       "    </tr>\n",
       "    <tr>\n",
       "      <th>2017</th>\n",
       "      <td>78</td>\n",
       "      <td>109642713</td>\n",
       "      <td>11105091</td>\n",
       "      <td>675809</td>\n",
       "    </tr>\n",
       "    <tr>\n",
       "      <th>2018</th>\n",
       "      <td>78</td>\n",
       "      <td>163103265</td>\n",
       "      <td>42375713</td>\n",
       "      <td>854781</td>\n",
       "    </tr>\n",
       "    <tr>\n",
       "      <th>2019</th>\n",
       "      <td>1</td>\n",
       "      <td>14325492</td>\n",
       "      <td>3616477</td>\n",
       "      <td>78022</td>\n",
       "    </tr>\n",
       "  </tbody>\n",
       "</table>\n",
       "</div>"
      ],
      "text/plain": [
       "      Month  Total Dispatched Trips  Total Dispatched Shared Trips  \\\n",
       "Year                                                                 \n",
       "2015     78                36275937                              0   \n",
       "2016     78                70067854                              0   \n",
       "2017     78               109642713                       11105091   \n",
       "2018     78               163103265                       42375713   \n",
       "2019      1                14325492                        3616477   \n",
       "\n",
       "      Unique Dispatched Vehicles  \n",
       "Year                              \n",
       "2015                      239798  \n",
       "2016                      441948  \n",
       "2017                      675809  \n",
       "2018                      854781  \n",
       "2019                       78022  "
      ]
     },
     "execution_count": 554,
     "metadata": {},
     "output_type": "execute_result"
    }
   ],
   "source": [
    "uber_sum"
   ]
  },
  {
   "cell_type": "code",
   "execution_count": 555,
   "metadata": {},
   "outputs": [],
   "source": [
    "uber_sum=uber_sum.drop(uber_sum.index[4])"
   ]
  },
  {
   "cell_type": "code",
   "execution_count": 556,
   "metadata": {},
   "outputs": [
    {
     "data": {
      "text/html": [
       "<div>\n",
       "<style scoped>\n",
       "    .dataframe tbody tr th:only-of-type {\n",
       "        vertical-align: middle;\n",
       "    }\n",
       "\n",
       "    .dataframe tbody tr th {\n",
       "        vertical-align: top;\n",
       "    }\n",
       "\n",
       "    .dataframe thead th {\n",
       "        text-align: right;\n",
       "    }\n",
       "</style>\n",
       "<table border=\"1\" class=\"dataframe\">\n",
       "  <thead>\n",
       "    <tr style=\"text-align: right;\">\n",
       "      <th></th>\n",
       "      <th>Month</th>\n",
       "      <th>Total Dispatched Trips</th>\n",
       "      <th>Total Dispatched Shared Trips</th>\n",
       "      <th>Unique Dispatched Vehicles</th>\n",
       "    </tr>\n",
       "    <tr>\n",
       "      <th>Year</th>\n",
       "      <th></th>\n",
       "      <th></th>\n",
       "      <th></th>\n",
       "      <th></th>\n",
       "    </tr>\n",
       "  </thead>\n",
       "  <tbody>\n",
       "    <tr>\n",
       "      <th>2015</th>\n",
       "      <td>78</td>\n",
       "      <td>36275937</td>\n",
       "      <td>0</td>\n",
       "      <td>239798</td>\n",
       "    </tr>\n",
       "    <tr>\n",
       "      <th>2016</th>\n",
       "      <td>78</td>\n",
       "      <td>70067854</td>\n",
       "      <td>0</td>\n",
       "      <td>441948</td>\n",
       "    </tr>\n",
       "    <tr>\n",
       "      <th>2017</th>\n",
       "      <td>78</td>\n",
       "      <td>109642713</td>\n",
       "      <td>11105091</td>\n",
       "      <td>675809</td>\n",
       "    </tr>\n",
       "    <tr>\n",
       "      <th>2018</th>\n",
       "      <td>78</td>\n",
       "      <td>163103265</td>\n",
       "      <td>42375713</td>\n",
       "      <td>854781</td>\n",
       "    </tr>\n",
       "  </tbody>\n",
       "</table>\n",
       "</div>"
      ],
      "text/plain": [
       "      Month  Total Dispatched Trips  Total Dispatched Shared Trips  \\\n",
       "Year                                                                 \n",
       "2015     78                36275937                              0   \n",
       "2016     78                70067854                              0   \n",
       "2017     78               109642713                       11105091   \n",
       "2018     78               163103265                       42375713   \n",
       "\n",
       "      Unique Dispatched Vehicles  \n",
       "Year                              \n",
       "2015                      239798  \n",
       "2016                      441948  \n",
       "2017                      675809  \n",
       "2018                      854781  "
      ]
     },
     "execution_count": 556,
     "metadata": {},
     "output_type": "execute_result"
    }
   ],
   "source": [
    "uber_sum"
   ]
  },
  {
   "cell_type": "markdown",
   "metadata": {},
   "source": [
    "#### VIA"
   ]
  },
  {
   "cell_type": "code",
   "execution_count": 557,
   "metadata": {},
   "outputs": [],
   "source": [
    "via1=via.groupby(\"Year\")"
   ]
  },
  {
   "cell_type": "code",
   "execution_count": 558,
   "metadata": {},
   "outputs": [],
   "source": [
    "via_sum=via1.sum()"
   ]
  },
  {
   "cell_type": "code",
   "execution_count": 559,
   "metadata": {},
   "outputs": [
    {
     "data": {
      "text/html": [
       "<div>\n",
       "<style scoped>\n",
       "    .dataframe tbody tr th:only-of-type {\n",
       "        vertical-align: middle;\n",
       "    }\n",
       "\n",
       "    .dataframe tbody tr th {\n",
       "        vertical-align: top;\n",
       "    }\n",
       "\n",
       "    .dataframe thead th {\n",
       "        text-align: right;\n",
       "    }\n",
       "</style>\n",
       "<table border=\"1\" class=\"dataframe\">\n",
       "  <thead>\n",
       "    <tr style=\"text-align: right;\">\n",
       "      <th></th>\n",
       "      <th>Month</th>\n",
       "      <th>Total Dispatched Trips</th>\n",
       "      <th>Total Dispatched Shared Trips</th>\n",
       "      <th>Unique Dispatched Vehicles</th>\n",
       "    </tr>\n",
       "    <tr>\n",
       "      <th>Year</th>\n",
       "      <th></th>\n",
       "      <th></th>\n",
       "      <th></th>\n",
       "      <th></th>\n",
       "    </tr>\n",
       "  </thead>\n",
       "  <tbody>\n",
       "    <tr>\n",
       "      <th>2015</th>\n",
       "      <td>72</td>\n",
       "      <td>1767709</td>\n",
       "      <td>0</td>\n",
       "      <td>6932</td>\n",
       "    </tr>\n",
       "    <tr>\n",
       "      <th>2016</th>\n",
       "      <td>78</td>\n",
       "      <td>6085133</td>\n",
       "      <td>0</td>\n",
       "      <td>21580</td>\n",
       "    </tr>\n",
       "    <tr>\n",
       "      <th>2017</th>\n",
       "      <td>78</td>\n",
       "      <td>10324271</td>\n",
       "      <td>4340253</td>\n",
       "      <td>50269</td>\n",
       "    </tr>\n",
       "    <tr>\n",
       "      <th>2018</th>\n",
       "      <td>78</td>\n",
       "      <td>11345582</td>\n",
       "      <td>7684873</td>\n",
       "      <td>69460</td>\n",
       "    </tr>\n",
       "    <tr>\n",
       "      <th>2019</th>\n",
       "      <td>1</td>\n",
       "      <td>1006908</td>\n",
       "      <td>558233</td>\n",
       "      <td>6784</td>\n",
       "    </tr>\n",
       "  </tbody>\n",
       "</table>\n",
       "</div>"
      ],
      "text/plain": [
       "      Month  Total Dispatched Trips  Total Dispatched Shared Trips  \\\n",
       "Year                                                                 \n",
       "2015     72                 1767709                              0   \n",
       "2016     78                 6085133                              0   \n",
       "2017     78                10324271                        4340253   \n",
       "2018     78                11345582                        7684873   \n",
       "2019      1                 1006908                         558233   \n",
       "\n",
       "      Unique Dispatched Vehicles  \n",
       "Year                              \n",
       "2015                        6932  \n",
       "2016                       21580  \n",
       "2017                       50269  \n",
       "2018                       69460  \n",
       "2019                        6784  "
      ]
     },
     "execution_count": 559,
     "metadata": {},
     "output_type": "execute_result"
    }
   ],
   "source": [
    "via_sum"
   ]
  },
  {
   "cell_type": "code",
   "execution_count": 560,
   "metadata": {},
   "outputs": [],
   "source": [
    "via_sum=via_sum.drop(via_sum.index[4])"
   ]
  },
  {
   "cell_type": "code",
   "execution_count": 561,
   "metadata": {},
   "outputs": [
    {
     "data": {
      "text/html": [
       "<div>\n",
       "<style scoped>\n",
       "    .dataframe tbody tr th:only-of-type {\n",
       "        vertical-align: middle;\n",
       "    }\n",
       "\n",
       "    .dataframe tbody tr th {\n",
       "        vertical-align: top;\n",
       "    }\n",
       "\n",
       "    .dataframe thead th {\n",
       "        text-align: right;\n",
       "    }\n",
       "</style>\n",
       "<table border=\"1\" class=\"dataframe\">\n",
       "  <thead>\n",
       "    <tr style=\"text-align: right;\">\n",
       "      <th></th>\n",
       "      <th>Month</th>\n",
       "      <th>Total Dispatched Trips</th>\n",
       "      <th>Total Dispatched Shared Trips</th>\n",
       "      <th>Unique Dispatched Vehicles</th>\n",
       "    </tr>\n",
       "    <tr>\n",
       "      <th>Year</th>\n",
       "      <th></th>\n",
       "      <th></th>\n",
       "      <th></th>\n",
       "      <th></th>\n",
       "    </tr>\n",
       "  </thead>\n",
       "  <tbody>\n",
       "    <tr>\n",
       "      <th>2015</th>\n",
       "      <td>72</td>\n",
       "      <td>1767709</td>\n",
       "      <td>0</td>\n",
       "      <td>6932</td>\n",
       "    </tr>\n",
       "    <tr>\n",
       "      <th>2016</th>\n",
       "      <td>78</td>\n",
       "      <td>6085133</td>\n",
       "      <td>0</td>\n",
       "      <td>21580</td>\n",
       "    </tr>\n",
       "    <tr>\n",
       "      <th>2017</th>\n",
       "      <td>78</td>\n",
       "      <td>10324271</td>\n",
       "      <td>4340253</td>\n",
       "      <td>50269</td>\n",
       "    </tr>\n",
       "    <tr>\n",
       "      <th>2018</th>\n",
       "      <td>78</td>\n",
       "      <td>11345582</td>\n",
       "      <td>7684873</td>\n",
       "      <td>69460</td>\n",
       "    </tr>\n",
       "  </tbody>\n",
       "</table>\n",
       "</div>"
      ],
      "text/plain": [
       "      Month  Total Dispatched Trips  Total Dispatched Shared Trips  \\\n",
       "Year                                                                 \n",
       "2015     72                 1767709                              0   \n",
       "2016     78                 6085133                              0   \n",
       "2017     78                10324271                        4340253   \n",
       "2018     78                11345582                        7684873   \n",
       "\n",
       "      Unique Dispatched Vehicles  \n",
       "Year                              \n",
       "2015                        6932  \n",
       "2016                       21580  \n",
       "2017                       50269  \n",
       "2018                       69460  "
      ]
     },
     "execution_count": 561,
     "metadata": {},
     "output_type": "execute_result"
    }
   ],
   "source": [
    "via_sum"
   ]
  },
  {
   "cell_type": "markdown",
   "metadata": {},
   "source": [
    "## Let's compare the total number of dispatched trips for each company between 2015 and 2018\n"
   ]
  },
  {
   "cell_type": "code",
   "execution_count": 563,
   "metadata": {},
   "outputs": [
    {
     "data": {
      "text/plain": [
       "Int64Index([2015, 2016, 2017, 2018], dtype='int64', name='Year')"
      ]
     },
     "execution_count": 563,
     "metadata": {},
     "output_type": "execute_result"
    }
   ],
   "source": [
    "uber_sum.index"
   ]
  },
  {
   "cell_type": "code",
   "execution_count": 564,
   "metadata": {},
   "outputs": [
    {
     "data": {
      "text/plain": [
       "Int64Index([2015, 2016, 2017, 2018], dtype='int64', name='Year')"
      ]
     },
     "execution_count": 564,
     "metadata": {},
     "output_type": "execute_result"
    }
   ],
   "source": [
    "taxi_sum.index"
   ]
  },
  {
   "cell_type": "code",
   "execution_count": 676,
   "metadata": {
    "scrolled": false
   },
   "outputs": [
    {
     "data": {
      "text/plain": [
       "<matplotlib.legend.Legend at 0x12a1be5f8>"
      ]
     },
     "execution_count": 676,
     "metadata": {},
     "output_type": "execute_result"
    },
    {
     "data": {
      "image/png": "[encoded data removed]",
      "text/plain": [
       "<Figure size 700x600 with 1 Axes>"
      ]
     },
     "metadata": {},
     "output_type": "display_data"
    }
   ],
   "source": [
    "plt.rcParams.update(plt.rcParamsDefault)\n",
    "plt.xkcd() \n",
    "\n",
    "fig, ax = plt.subplots(figsize = (7,6))\n",
    "\n",
    "ax.plot(uber_sum.index, uber_sum[\"Total Dispatched Trips\"], color = 'black', linewidth = 3.0, label= \"Uber\")\n",
    "ax.plot(via_sum.index, via_sum[\"Total Dispatched Trips\"], color = 'lightblue', linewidth = 3.0, label= \"Via\")\n",
    "ax.plot(juno_sum.index, juno_sum[\"Total Dispatched Trips\"], color = 'navy', linewidth = 3.0, label= \"Juno\")\n",
    "ax.plot(lyft_sum.index, lyft_sum[\"Total Dispatched Trips\"], color = 'magenta', linewidth = 3.0, label= \"Lyft\")\n",
    "ax.plot(taxi_sum.index, taxi_sum[\"Total Dispatched Trips\"], color = 'yellow', linewidth = 3.0, label= \"Yellow Taxi\")\n",
    "\n",
    "ax.set_title(\"Total Dispatched Trips over the Years\", fontsize = 14, fontweight = \"bold\") \n",
    "ax.set_ylabel(\"Total Dispatched Trips\", fontsize = 12) \n",
    "ax.set_xlabel(\"Year\", fontsize = 12) \n",
    "ax.set_xticks([2015,2016,2017,2018])\n",
    "\n",
    "\n",
    "ax.spines[\"right\"].set_visible(False)\n",
    "ax.spines[\"top\"].set_visible(False) \n",
    "ax.legend(loc='upper center', bbox_to_anchor=(0.5, -.15), shadow=True, ncol=5)"
   ]
  },
  {
   "cell_type": "markdown",
   "metadata": {},
   "source": [
    "As we can see, the more dispatched trips our ride-hailing apps have, the less for NYC taxis. THis makes sense as there is a limited population in NYC so as the competition continues to enter the market and grow, cabs will definitely lose a part of their market share.\n",
    "\n",
    "Furthermore, we see that Uber has had the strongest performance out of all the apps and is slowly catching up to NYC taxis! We would expect that within the next one or two years, their lines will cross and Uber will surpass NYC Taxis as the most popular mode of transportation out of the options. "
   ]
  },
  {
   "cell_type": "markdown",
   "metadata": {},
   "source": [
    "## Next let's look at the Y-O-Y growth rates for each ride hailing app"
   ]
  },
  {
   "cell_type": "markdown",
   "metadata": {},
   "source": [
    "First I have to build a function that normalizes all of the ride-hailing apps growth rates since they all launched at different times\n",
    "\n",
    "This function will also calculate the growth rates for each and store them in a list that we can then build into a dictionary to ultimately plot a comparison"
   ]
  },
  {
   "cell_type": "code",
   "execution_count": 651,
   "metadata": {},
   "outputs": [],
   "source": [
    "def normalize(df):\n",
    "    \n",
    "    new_list=[]\n",
    "    \n",
    "    var=0 \n",
    "    \n",
    "    for i in range(2016, 2019):\n",
    "        \n",
    "        var1=var\n",
    "        \n",
    "        var=df.loc[i][\"Total Dispatched Trips\"]/df.loc[2016][\"Total Dispatched Trips\"]\n",
    "        \n",
    "        growth_rate=var-var1\n",
    "        \n",
    "        new_list.append(growth_rate)\n",
    "    \n",
    "    return new_list"
   ]
  },
  {
   "cell_type": "markdown",
   "metadata": {},
   "source": [
    "Now let's calculate for JUNO"
   ]
  },
  {
   "cell_type": "code",
   "execution_count": 567,
   "metadata": {},
   "outputs": [],
   "source": [
    "growth_rates_juno=normalize(juno_sum)"
   ]
  },
  {
   "cell_type": "code",
   "execution_count": 568,
   "metadata": {},
   "outputs": [
    {
     "data": {
      "text/plain": [
       "[1.0, 1.4661194151985124, 0.2509935661135536]"
      ]
     },
     "execution_count": 568,
     "metadata": {},
     "output_type": "execute_result"
    }
   ],
   "source": [
    "growth_rates_juno"
   ]
  },
  {
   "cell_type": "markdown",
   "metadata": {},
   "source": [
    "Now let's calculate for LYFT"
   ]
  },
  {
   "cell_type": "code",
   "execution_count": 569,
   "metadata": {},
   "outputs": [],
   "source": [
    "growth_rates_lyft=normalize(lyft_sum)"
   ]
  },
  {
   "cell_type": "code",
   "execution_count": 570,
   "metadata": {},
   "outputs": [
    {
     "data": {
      "text/plain": [
       "[1.0, 1.309144620188687, 1.6172714545726254]"
      ]
     },
     "execution_count": 570,
     "metadata": {},
     "output_type": "execute_result"
    }
   ],
   "source": [
    "growth_rates_lyft"
   ]
  },
  {
   "cell_type": "markdown",
   "metadata": {},
   "source": [
    "Now let's calculate for UBER"
   ]
  },
  {
   "cell_type": "code",
   "execution_count": 571,
   "metadata": {},
   "outputs": [],
   "source": [
    "growth_rates_uber=normalize(uber_sum)"
   ]
  },
  {
   "cell_type": "code",
   "execution_count": 572,
   "metadata": {},
   "outputs": [
    {
     "data": {
      "text/plain": [
       "[1.0, 0.5648076363234986, 0.7629825797148004]"
      ]
     },
     "execution_count": 572,
     "metadata": {},
     "output_type": "execute_result"
    }
   ],
   "source": [
    "growth_rates_uber"
   ]
  },
  {
   "cell_type": "markdown",
   "metadata": {},
   "source": [
    "Now let's calculate for VIA"
   ]
  },
  {
   "cell_type": "code",
   "execution_count": 573,
   "metadata": {},
   "outputs": [],
   "source": [
    "growth_rates_via=normalize(via_sum)"
   ]
  },
  {
   "cell_type": "code",
   "execution_count": 574,
   "metadata": {},
   "outputs": [
    {
     "data": {
      "text/plain": [
       "[1.0, 0.6966385122560181, 0.16783708753777438]"
      ]
     },
     "execution_count": 574,
     "metadata": {},
     "output_type": "execute_result"
    }
   ],
   "source": [
    "growth_rates_via"
   ]
  },
  {
   "cell_type": "markdown",
   "metadata": {},
   "source": [
    "Now let's calculate for TAXIS"
   ]
  },
  {
   "cell_type": "code",
   "execution_count": 575,
   "metadata": {},
   "outputs": [],
   "source": [
    "growth_rates_taxi=normalize(taxi_sum)"
   ]
  },
  {
   "cell_type": "code",
   "execution_count": 576,
   "metadata": {},
   "outputs": [
    {
     "data": {
      "text/plain": [
       "[1.0, -0.1322564697335158, -0.08189362302247916]"
      ]
     },
     "execution_count": 576,
     "metadata": {},
     "output_type": "execute_result"
    }
   ],
   "source": [
    "growth_rates_taxi"
   ]
  },
  {
   "cell_type": "markdown",
   "metadata": {},
   "source": [
    "Now we have to build a dictionary that holds all of the lists in order to convert it into a dataframe"
   ]
  },
  {
   "cell_type": "code",
   "execution_count": 577,
   "metadata": {},
   "outputs": [],
   "source": [
    "growth_dict= {\"Uber\": growth_rates_uber,\n",
    "                   \"Lyft\": growth_rates_lyft,\n",
    "                   \"Juno\": growth_rates_juno,\n",
    "                   \"Via\": growth_rates_via,\n",
    "             \"Taxi\": growth_rates_taxi}"
   ]
  },
  {
   "cell_type": "code",
   "execution_count": 578,
   "metadata": {},
   "outputs": [
    {
     "data": {
      "text/plain": [
       "{'Uber': [1.0, 0.5648076363234986, 0.7629825797148004],\n",
       " 'Lyft': [1.0, 1.309144620188687, 1.6172714545726254],\n",
       " 'Juno': [1.0, 1.4661194151985124, 0.2509935661135536],\n",
       " 'Via': [1.0, 0.6966385122560181, 0.16783708753777438],\n",
       " 'Taxi': [1.0, -0.1322564697335158, -0.08189362302247916]}"
      ]
     },
     "execution_count": 578,
     "metadata": {},
     "output_type": "execute_result"
    }
   ],
   "source": [
    "growth_dict"
   ]
  },
  {
   "cell_type": "code",
   "execution_count": 579,
   "metadata": {},
   "outputs": [],
   "source": [
    "growth_rates_df=pd.DataFrame(growth_dict)"
   ]
  },
  {
   "cell_type": "code",
   "execution_count": 580,
   "metadata": {},
   "outputs": [
    {
     "data": {
      "text/html": [
       "<div>\n",
       "<style scoped>\n",
       "    .dataframe tbody tr th:only-of-type {\n",
       "        vertical-align: middle;\n",
       "    }\n",
       "\n",
       "    .dataframe tbody tr th {\n",
       "        vertical-align: top;\n",
       "    }\n",
       "\n",
       "    .dataframe thead th {\n",
       "        text-align: right;\n",
       "    }\n",
       "</style>\n",
       "<table border=\"1\" class=\"dataframe\">\n",
       "  <thead>\n",
       "    <tr style=\"text-align: right;\">\n",
       "      <th></th>\n",
       "      <th>Uber</th>\n",
       "      <th>Lyft</th>\n",
       "      <th>Juno</th>\n",
       "      <th>Via</th>\n",
       "      <th>Taxi</th>\n",
       "    </tr>\n",
       "  </thead>\n",
       "  <tbody>\n",
       "    <tr>\n",
       "      <th>0</th>\n",
       "      <td>1.000000</td>\n",
       "      <td>1.000000</td>\n",
       "      <td>1.000000</td>\n",
       "      <td>1.000000</td>\n",
       "      <td>1.000000</td>\n",
       "    </tr>\n",
       "    <tr>\n",
       "      <th>1</th>\n",
       "      <td>0.564808</td>\n",
       "      <td>1.309145</td>\n",
       "      <td>1.466119</td>\n",
       "      <td>0.696639</td>\n",
       "      <td>-0.132256</td>\n",
       "    </tr>\n",
       "    <tr>\n",
       "      <th>2</th>\n",
       "      <td>0.762983</td>\n",
       "      <td>1.617271</td>\n",
       "      <td>0.250994</td>\n",
       "      <td>0.167837</td>\n",
       "      <td>-0.081894</td>\n",
       "    </tr>\n",
       "  </tbody>\n",
       "</table>\n",
       "</div>"
      ],
      "text/plain": [
       "       Uber      Lyft      Juno       Via      Taxi\n",
       "0  1.000000  1.000000  1.000000  1.000000  1.000000\n",
       "1  0.564808  1.309145  1.466119  0.696639 -0.132256\n",
       "2  0.762983  1.617271  0.250994  0.167837 -0.081894"
      ]
     },
     "execution_count": 580,
     "metadata": {},
     "output_type": "execute_result"
    }
   ],
   "source": [
    "growth_rates_df"
   ]
  },
  {
   "cell_type": "code",
   "execution_count": 581,
   "metadata": {},
   "outputs": [],
   "source": [
    "Year=['2016', '2017', '2018']"
   ]
  },
  {
   "cell_type": "code",
   "execution_count": 582,
   "metadata": {},
   "outputs": [],
   "source": [
    "growth_rates_df['Year'] = Year"
   ]
  },
  {
   "cell_type": "code",
   "execution_count": 583,
   "metadata": {},
   "outputs": [
    {
     "data": {
      "text/html": [
       "<div>\n",
       "<style scoped>\n",
       "    .dataframe tbody tr th:only-of-type {\n",
       "        vertical-align: middle;\n",
       "    }\n",
       "\n",
       "    .dataframe tbody tr th {\n",
       "        vertical-align: top;\n",
       "    }\n",
       "\n",
       "    .dataframe thead th {\n",
       "        text-align: right;\n",
       "    }\n",
       "</style>\n",
       "<table border=\"1\" class=\"dataframe\">\n",
       "  <thead>\n",
       "    <tr style=\"text-align: right;\">\n",
       "      <th></th>\n",
       "      <th>Uber</th>\n",
       "      <th>Lyft</th>\n",
       "      <th>Juno</th>\n",
       "      <th>Via</th>\n",
       "      <th>Taxi</th>\n",
       "      <th>Year</th>\n",
       "    </tr>\n",
       "  </thead>\n",
       "  <tbody>\n",
       "    <tr>\n",
       "      <th>0</th>\n",
       "      <td>1.000000</td>\n",
       "      <td>1.000000</td>\n",
       "      <td>1.000000</td>\n",
       "      <td>1.000000</td>\n",
       "      <td>1.000000</td>\n",
       "      <td>2016</td>\n",
       "    </tr>\n",
       "    <tr>\n",
       "      <th>1</th>\n",
       "      <td>0.564808</td>\n",
       "      <td>1.309145</td>\n",
       "      <td>1.466119</td>\n",
       "      <td>0.696639</td>\n",
       "      <td>-0.132256</td>\n",
       "      <td>2017</td>\n",
       "    </tr>\n",
       "    <tr>\n",
       "      <th>2</th>\n",
       "      <td>0.762983</td>\n",
       "      <td>1.617271</td>\n",
       "      <td>0.250994</td>\n",
       "      <td>0.167837</td>\n",
       "      <td>-0.081894</td>\n",
       "      <td>2018</td>\n",
       "    </tr>\n",
       "  </tbody>\n",
       "</table>\n",
       "</div>"
      ],
      "text/plain": [
       "       Uber      Lyft      Juno       Via      Taxi  Year\n",
       "0  1.000000  1.000000  1.000000  1.000000  1.000000  2016\n",
       "1  0.564808  1.309145  1.466119  0.696639 -0.132256  2017\n",
       "2  0.762983  1.617271  0.250994  0.167837 -0.081894  2018"
      ]
     },
     "execution_count": 583,
     "metadata": {},
     "output_type": "execute_result"
    }
   ],
   "source": [
    "growth_rates_df"
   ]
  },
  {
   "cell_type": "code",
   "execution_count": 584,
   "metadata": {},
   "outputs": [],
   "source": [
    "growth_rates_df=growth_rates_df.set_index(['Year'])"
   ]
  },
  {
   "cell_type": "code",
   "execution_count": 585,
   "metadata": {},
   "outputs": [
    {
     "data": {
      "text/html": [
       "<div>\n",
       "<style scoped>\n",
       "    .dataframe tbody tr th:only-of-type {\n",
       "        vertical-align: middle;\n",
       "    }\n",
       "\n",
       "    .dataframe tbody tr th {\n",
       "        vertical-align: top;\n",
       "    }\n",
       "\n",
       "    .dataframe thead th {\n",
       "        text-align: right;\n",
       "    }\n",
       "</style>\n",
       "<table border=\"1\" class=\"dataframe\">\n",
       "  <thead>\n",
       "    <tr style=\"text-align: right;\">\n",
       "      <th></th>\n",
       "      <th>Uber</th>\n",
       "      <th>Lyft</th>\n",
       "      <th>Juno</th>\n",
       "      <th>Via</th>\n",
       "      <th>Taxi</th>\n",
       "    </tr>\n",
       "    <tr>\n",
       "      <th>Year</th>\n",
       "      <th></th>\n",
       "      <th></th>\n",
       "      <th></th>\n",
       "      <th></th>\n",
       "      <th></th>\n",
       "    </tr>\n",
       "  </thead>\n",
       "  <tbody>\n",
       "    <tr>\n",
       "      <th>2016</th>\n",
       "      <td>1.000000</td>\n",
       "      <td>1.000000</td>\n",
       "      <td>1.000000</td>\n",
       "      <td>1.000000</td>\n",
       "      <td>1.000000</td>\n",
       "    </tr>\n",
       "    <tr>\n",
       "      <th>2017</th>\n",
       "      <td>0.564808</td>\n",
       "      <td>1.309145</td>\n",
       "      <td>1.466119</td>\n",
       "      <td>0.696639</td>\n",
       "      <td>-0.132256</td>\n",
       "    </tr>\n",
       "    <tr>\n",
       "      <th>2018</th>\n",
       "      <td>0.762983</td>\n",
       "      <td>1.617271</td>\n",
       "      <td>0.250994</td>\n",
       "      <td>0.167837</td>\n",
       "      <td>-0.081894</td>\n",
       "    </tr>\n",
       "  </tbody>\n",
       "</table>\n",
       "</div>"
      ],
      "text/plain": [
       "          Uber      Lyft      Juno       Via      Taxi\n",
       "Year                                                  \n",
       "2016  1.000000  1.000000  1.000000  1.000000  1.000000\n",
       "2017  0.564808  1.309145  1.466119  0.696639 -0.132256\n",
       "2018  0.762983  1.617271  0.250994  0.167837 -0.081894"
      ]
     },
     "execution_count": 585,
     "metadata": {},
     "output_type": "execute_result"
    }
   ],
   "source": [
    "growth_rates_df"
   ]
  },
  {
   "cell_type": "markdown",
   "metadata": {},
   "source": [
    "Now let's plot our results!"
   ]
  },
  {
   "cell_type": "code",
   "execution_count": 668,
   "metadata": {},
   "outputs": [
    {
     "data": {
      "text/plain": [
       "<matplotlib.legend.Legend at 0x129258588>"
      ]
     },
     "execution_count": 668,
     "metadata": {},
     "output_type": "execute_result"
    },
    {
     "data": {
      "image/png": "[encoded data removed]",
      "text/plain": [
       "<Figure size 500x400 with 1 Axes>"
      ]
     },
     "metadata": {},
     "output_type": "display_data"
    }
   ],
   "source": [
    "plt.rcParams.update(plt.rcParamsDefault)\n",
    "plt.xkcd() \n",
    "\n",
    "fig, ax = plt.subplots(figsize = (5,4))\n",
    "\n",
    "ax.plot(growth_rates_df.index, growth_rates_df[\"Uber\"], color = 'black', linewidth = 3.0, label= \"Uber\")\n",
    "ax.plot(growth_rates_df.index, growth_rates_df[\"Lyft\"], color = 'magenta', linewidth = 3.0, label= \"Lyft\")\n",
    "ax.plot(growth_rates_df.index, growth_rates_df[\"Juno\"], color = 'navy', linewidth = 3.0, label= \"Juno\")\n",
    "ax.plot(growth_rates_df.index, growth_rates_df[\"Via\"], color = 'lightblue', linewidth = 3.0, label= \"Via\")\n",
    "ax.plot(growth_rates_df.index, growth_rates_df[\"Taxi\"], color = 'yellow', linewidth = 3.0, label= \"Taxi\")\n",
    "\n",
    "ax.set_title(\"Y-O-Y Growth Rate\", fontsize = 14, fontweight = \"bold\") \n",
    "ax.set_ylabel(\"Normalized Growth\", fontsize = 12) \n",
    "ax.set_xlabel(\"Year\", fontsize = 12) \n",
    "\n",
    "ax.spines[\"right\"].set_visible(False)\n",
    "ax.spines[\"top\"].set_visible(False) \n",
    "ax.legend(loc='upper center', bbox_to_anchor=(0.5, -.15), shadow=True, ncol=5)"
   ]
  },
  {
   "cell_type": "markdown",
   "metadata": {},
   "source": [
    "In general, we can tell that taxis has a serious decline between 2016 and 2017 as ride-hailing apps began to really take a place in the market. The decline became less drastic between 2017 and 2018.\n",
    "\n",
    "When comparing the ride-hailing apps to each other, we see that although initially in 2016, Juno had the most growth, Lyft is the only app that has consitently grown over the year. This could be because they branded themselves as a ride-sharing app from the very start and now ride-sharing has become extremely popular. We also see that via has been consistently declining since 2016. Lastly, we see that although Uber dropped off, it has begun to climb again. This could potentially be because they released a subscription service that motivated users to take more rides."
   ]
  },
  {
   "cell_type": "markdown",
   "metadata": {},
   "source": [
    "## What about the number of dispatched vehicles?\n",
    "\n",
    "I also wanted to discover whether the number of drivers for each company had been continually increasing over the years!\n",
    "\n",
    "*** We will not include taxi data here since we do not have the data for the number of Unique Dispatched Vehicles in this dataset "
   ]
  },
  {
   "cell_type": "code",
   "execution_count": 666,
   "metadata": {},
   "outputs": [
    {
     "data": {
      "text/plain": [
       "<matplotlib.legend.Legend at 0x1292113c8>"
      ]
     },
     "execution_count": 666,
     "metadata": {},
     "output_type": "execute_result"
    },
    {
     "data": {
      "image/png": "[encoded data removed]",
      "text/plain": [
       "<Figure size 500x400 with 1 Axes>"
      ]
     },
     "metadata": {},
     "output_type": "display_data"
    }
   ],
   "source": [
    "plt.rcParams.update(plt.rcParamsDefault)\n",
    "plt.xkcd() \n",
    "\n",
    "fig, ax = plt.subplots(figsize = (5,4))\n",
    "\n",
    "ax.plot(uber_sum.index, uber_sum[\"Unique Dispatched Vehicles\"], color = 'black', linewidth = 2.0, label= \"Uber\")\n",
    "ax.plot(via_sum.index, via_sum[\"Unique Dispatched Vehicles\"], color = 'lightblue', linewidth = 2.0, label= \"Via\")\n",
    "ax.plot(juno_sum.index, juno_sum[\"Unique Dispatched Vehicles\"], color = 'navy', linewidth = 2.0, label= \"Juno\")\n",
    "ax.plot(lyft_sum.index, lyft_sum[\"Unique Dispatched Vehicles\"], color = 'magenta', linewidth = 2.0, label= \"Lyft\")\n",
    "\n",
    "ax.set_title(\"Total Dispatched Vehicles over the Years\", fontsize = 14, fontweight = \"bold\") \n",
    "ax.set_ylabel(\"Unique Dispatched Vehicles\", fontsize = 12) \n",
    "ax.set_xlabel(\"Year\", fontsize = 12) \n",
    "ax.set_xticks([2015,2016,2017,2018])\n",
    "\n",
    "\n",
    "ax.spines[\"right\"].set_visible(False)\n",
    "ax.spines[\"top\"].set_visible(False) \n",
    "ax.legend(loc='upper center', bbox_to_anchor=(0.5, -.15), shadow=True, ncol=4)\n",
    "\n"
   ]
  },
  {
   "cell_type": "markdown",
   "metadata": {},
   "source": [
    "This graph clearly proves that these applications have been bringing on more and more drivers and therefore registerning more and more vehicles. Just as we saw in the graph before, Juno's growth has definitely slown since 2017 which has affected the number of dispatched vehicles for the brand. Similarly, we see that Lyft has consistently grown since 2016 in the previous graph, and in turn we see them dispatching more and more vehicles each year."
   ]
  },
  {
   "cell_type": "markdown",
   "metadata": {},
   "source": [
    "## How about the seasonality of choosing to take a car?"
   ]
  },
  {
   "cell_type": "markdown",
   "metadata": {},
   "source": [
    "Now we need to group by month rather than year...."
   ]
  },
  {
   "cell_type": "markdown",
   "metadata": {},
   "source": [
    "#### Start w/ JUNO"
   ]
  },
  {
   "cell_type": "code",
   "execution_count": 588,
   "metadata": {},
   "outputs": [],
   "source": [
    "juno2=juno.groupby(['Month'])"
   ]
  },
  {
   "cell_type": "code",
   "execution_count": 589,
   "metadata": {},
   "outputs": [],
   "source": [
    "juno_month_mean=juno2.mean()"
   ]
  },
  {
   "cell_type": "code",
   "execution_count": 590,
   "metadata": {},
   "outputs": [
    {
     "data": {
      "text/html": [
       "<div>\n",
       "<style scoped>\n",
       "    .dataframe tbody tr th:only-of-type {\n",
       "        vertical-align: middle;\n",
       "    }\n",
       "\n",
       "    .dataframe tbody tr th {\n",
       "        vertical-align: top;\n",
       "    }\n",
       "\n",
       "    .dataframe thead th {\n",
       "        text-align: right;\n",
       "    }\n",
       "</style>\n",
       "<table border=\"1\" class=\"dataframe\">\n",
       "  <thead>\n",
       "    <tr style=\"text-align: right;\">\n",
       "      <th></th>\n",
       "      <th>Total Dispatched Trips</th>\n",
       "      <th>Total Dispatched Shared Trips</th>\n",
       "      <th>Unique Dispatched Vehicles</th>\n",
       "    </tr>\n",
       "    <tr>\n",
       "      <th>Month</th>\n",
       "      <th></th>\n",
       "      <th></th>\n",
       "      <th></th>\n",
       "    </tr>\n",
       "  </thead>\n",
       "  <tbody>\n",
       "    <tr>\n",
       "      <th>1</th>\n",
       "      <td>1.188115e+06</td>\n",
       "      <td>0.0</td>\n",
       "      <td>20287.666667</td>\n",
       "    </tr>\n",
       "    <tr>\n",
       "      <th>2</th>\n",
       "      <td>1.166980e+06</td>\n",
       "      <td>0.0</td>\n",
       "      <td>20126.000000</td>\n",
       "    </tr>\n",
       "    <tr>\n",
       "      <th>3</th>\n",
       "      <td>8.660770e+05</td>\n",
       "      <td>0.0</td>\n",
       "      <td>13937.000000</td>\n",
       "    </tr>\n",
       "    <tr>\n",
       "      <th>4</th>\n",
       "      <td>7.570880e+05</td>\n",
       "      <td>0.0</td>\n",
       "      <td>15950.000000</td>\n",
       "    </tr>\n",
       "    <tr>\n",
       "      <th>5</th>\n",
       "      <td>7.397857e+05</td>\n",
       "      <td>0.0</td>\n",
       "      <td>16367.000000</td>\n",
       "    </tr>\n",
       "    <tr>\n",
       "      <th>6</th>\n",
       "      <td>7.822840e+05</td>\n",
       "      <td>0.0</td>\n",
       "      <td>17189.333333</td>\n",
       "    </tr>\n",
       "    <tr>\n",
       "      <th>7</th>\n",
       "      <td>7.996837e+05</td>\n",
       "      <td>0.0</td>\n",
       "      <td>17289.666667</td>\n",
       "    </tr>\n",
       "    <tr>\n",
       "      <th>8</th>\n",
       "      <td>8.660867e+05</td>\n",
       "      <td>0.0</td>\n",
       "      <td>17381.333333</td>\n",
       "    </tr>\n",
       "    <tr>\n",
       "      <th>9</th>\n",
       "      <td>9.114350e+05</td>\n",
       "      <td>0.0</td>\n",
       "      <td>17727.000000</td>\n",
       "    </tr>\n",
       "    <tr>\n",
       "      <th>10</th>\n",
       "      <td>1.041513e+06</td>\n",
       "      <td>0.0</td>\n",
       "      <td>18862.666667</td>\n",
       "    </tr>\n",
       "    <tr>\n",
       "      <th>11</th>\n",
       "      <td>1.028534e+06</td>\n",
       "      <td>0.0</td>\n",
       "      <td>19261.333333</td>\n",
       "    </tr>\n",
       "    <tr>\n",
       "      <th>12</th>\n",
       "      <td>1.131183e+06</td>\n",
       "      <td>0.0</td>\n",
       "      <td>19589.666667</td>\n",
       "    </tr>\n",
       "  </tbody>\n",
       "</table>\n",
       "</div>"
      ],
      "text/plain": [
       "       Total Dispatched Trips  Total Dispatched Shared Trips  \\\n",
       "Month                                                          \n",
       "1                1.188115e+06                            0.0   \n",
       "2                1.166980e+06                            0.0   \n",
       "3                8.660770e+05                            0.0   \n",
       "4                7.570880e+05                            0.0   \n",
       "5                7.397857e+05                            0.0   \n",
       "6                7.822840e+05                            0.0   \n",
       "7                7.996837e+05                            0.0   \n",
       "8                8.660867e+05                            0.0   \n",
       "9                9.114350e+05                            0.0   \n",
       "10               1.041513e+06                            0.0   \n",
       "11               1.028534e+06                            0.0   \n",
       "12               1.131183e+06                            0.0   \n",
       "\n",
       "       Unique Dispatched Vehicles  \n",
       "Month                              \n",
       "1                    20287.666667  \n",
       "2                    20126.000000  \n",
       "3                    13937.000000  \n",
       "4                    15950.000000  \n",
       "5                    16367.000000  \n",
       "6                    17189.333333  \n",
       "7                    17289.666667  \n",
       "8                    17381.333333  \n",
       "9                    17727.000000  \n",
       "10                   18862.666667  \n",
       "11                   19261.333333  \n",
       "12                   19589.666667  "
      ]
     },
     "execution_count": 590,
     "metadata": {},
     "output_type": "execute_result"
    }
   ],
   "source": [
    "juno_month_mean"
   ]
  },
  {
   "cell_type": "markdown",
   "metadata": {},
   "source": [
    "#### Now LYFT"
   ]
  },
  {
   "cell_type": "code",
   "execution_count": 591,
   "metadata": {},
   "outputs": [],
   "source": [
    "lyft2=lyft.groupby(['Month'])"
   ]
  },
  {
   "cell_type": "code",
   "execution_count": 592,
   "metadata": {},
   "outputs": [],
   "source": [
    "lyft_month_mean=lyft2.mean()"
   ]
  },
  {
   "cell_type": "code",
   "execution_count": 593,
   "metadata": {},
   "outputs": [
    {
     "data": {
      "text/html": [
       "<div>\n",
       "<style scoped>\n",
       "    .dataframe tbody tr th:only-of-type {\n",
       "        vertical-align: middle;\n",
       "    }\n",
       "\n",
       "    .dataframe tbody tr th {\n",
       "        vertical-align: top;\n",
       "    }\n",
       "\n",
       "    .dataframe thead th {\n",
       "        text-align: right;\n",
       "    }\n",
       "</style>\n",
       "<table border=\"1\" class=\"dataframe\">\n",
       "  <thead>\n",
       "    <tr style=\"text-align: right;\">\n",
       "      <th></th>\n",
       "      <th>Year</th>\n",
       "      <th>Total Dispatched Trips</th>\n",
       "      <th>Total Dispatched Shared Trips</th>\n",
       "      <th>Unique Dispatched Vehicles</th>\n",
       "    </tr>\n",
       "    <tr>\n",
       "      <th>Month</th>\n",
       "      <th></th>\n",
       "      <th></th>\n",
       "      <th></th>\n",
       "      <th></th>\n",
       "    </tr>\n",
       "  </thead>\n",
       "  <tbody>\n",
       "    <tr>\n",
       "      <th>1</th>\n",
       "      <td>2017.5</td>\n",
       "      <td>2.403548e+06</td>\n",
       "      <td>337744.250000</td>\n",
       "      <td>29104.750000</td>\n",
       "    </tr>\n",
       "    <tr>\n",
       "      <th>2</th>\n",
       "      <td>2017.0</td>\n",
       "      <td>1.810314e+06</td>\n",
       "      <td>219681.333333</td>\n",
       "      <td>22687.666667</td>\n",
       "    </tr>\n",
       "    <tr>\n",
       "      <th>3</th>\n",
       "      <td>2017.0</td>\n",
       "      <td>2.028991e+06</td>\n",
       "      <td>213809.000000</td>\n",
       "      <td>22793.666667</td>\n",
       "    </tr>\n",
       "    <tr>\n",
       "      <th>4</th>\n",
       "      <td>2016.5</td>\n",
       "      <td>1.497694e+06</td>\n",
       "      <td>139297.500000</td>\n",
       "      <td>18515.750000</td>\n",
       "    </tr>\n",
       "    <tr>\n",
       "      <th>5</th>\n",
       "      <td>2016.5</td>\n",
       "      <td>1.607581e+06</td>\n",
       "      <td>135007.250000</td>\n",
       "      <td>19811.500000</td>\n",
       "    </tr>\n",
       "    <tr>\n",
       "      <th>6</th>\n",
       "      <td>2016.5</td>\n",
       "      <td>1.715055e+06</td>\n",
       "      <td>242466.000000</td>\n",
       "      <td>21006.000000</td>\n",
       "    </tr>\n",
       "    <tr>\n",
       "      <th>7</th>\n",
       "      <td>2016.5</td>\n",
       "      <td>1.764211e+06</td>\n",
       "      <td>258947.750000</td>\n",
       "      <td>21875.750000</td>\n",
       "    </tr>\n",
       "    <tr>\n",
       "      <th>8</th>\n",
       "      <td>2016.5</td>\n",
       "      <td>1.933885e+06</td>\n",
       "      <td>258239.000000</td>\n",
       "      <td>22976.500000</td>\n",
       "    </tr>\n",
       "    <tr>\n",
       "      <th>9</th>\n",
       "      <td>2016.5</td>\n",
       "      <td>1.989284e+06</td>\n",
       "      <td>271668.250000</td>\n",
       "      <td>24017.000000</td>\n",
       "    </tr>\n",
       "    <tr>\n",
       "      <th>10</th>\n",
       "      <td>2016.5</td>\n",
       "      <td>2.174635e+06</td>\n",
       "      <td>396202.500000</td>\n",
       "      <td>25763.500000</td>\n",
       "    </tr>\n",
       "    <tr>\n",
       "      <th>11</th>\n",
       "      <td>2016.5</td>\n",
       "      <td>2.112750e+06</td>\n",
       "      <td>255893.250000</td>\n",
       "      <td>26563.500000</td>\n",
       "    </tr>\n",
       "    <tr>\n",
       "      <th>12</th>\n",
       "      <td>2016.5</td>\n",
       "      <td>2.381816e+06</td>\n",
       "      <td>316330.000000</td>\n",
       "      <td>27084.000000</td>\n",
       "    </tr>\n",
       "  </tbody>\n",
       "</table>\n",
       "</div>"
      ],
      "text/plain": [
       "         Year  Total Dispatched Trips  Total Dispatched Shared Trips  \\\n",
       "Month                                                                  \n",
       "1      2017.5            2.403548e+06                  337744.250000   \n",
       "2      2017.0            1.810314e+06                  219681.333333   \n",
       "3      2017.0            2.028991e+06                  213809.000000   \n",
       "4      2016.5            1.497694e+06                  139297.500000   \n",
       "5      2016.5            1.607581e+06                  135007.250000   \n",
       "6      2016.5            1.715055e+06                  242466.000000   \n",
       "7      2016.5            1.764211e+06                  258947.750000   \n",
       "8      2016.5            1.933885e+06                  258239.000000   \n",
       "9      2016.5            1.989284e+06                  271668.250000   \n",
       "10     2016.5            2.174635e+06                  396202.500000   \n",
       "11     2016.5            2.112750e+06                  255893.250000   \n",
       "12     2016.5            2.381816e+06                  316330.000000   \n",
       "\n",
       "       Unique Dispatched Vehicles  \n",
       "Month                              \n",
       "1                    29104.750000  \n",
       "2                    22687.666667  \n",
       "3                    22793.666667  \n",
       "4                    18515.750000  \n",
       "5                    19811.500000  \n",
       "6                    21006.000000  \n",
       "7                    21875.750000  \n",
       "8                    22976.500000  \n",
       "9                    24017.000000  \n",
       "10                   25763.500000  \n",
       "11                   26563.500000  \n",
       "12                   27084.000000  "
      ]
     },
     "execution_count": 593,
     "metadata": {},
     "output_type": "execute_result"
    }
   ],
   "source": [
    "lyft_month_mean"
   ]
  },
  {
   "cell_type": "markdown",
   "metadata": {},
   "source": [
    "#### Now UBER"
   ]
  },
  {
   "cell_type": "code",
   "execution_count": 594,
   "metadata": {},
   "outputs": [],
   "source": [
    "uber2=uber.groupby(['Month'])"
   ]
  },
  {
   "cell_type": "code",
   "execution_count": 595,
   "metadata": {},
   "outputs": [],
   "source": [
    "uber_month_mean=uber2.mean()"
   ]
  },
  {
   "cell_type": "code",
   "execution_count": 596,
   "metadata": {},
   "outputs": [
    {
     "data": {
      "text/html": [
       "<div>\n",
       "<style scoped>\n",
       "    .dataframe tbody tr th:only-of-type {\n",
       "        vertical-align: middle;\n",
       "    }\n",
       "\n",
       "    .dataframe tbody tr th {\n",
       "        vertical-align: top;\n",
       "    }\n",
       "\n",
       "    .dataframe thead th {\n",
       "        text-align: right;\n",
       "    }\n",
       "</style>\n",
       "<table border=\"1\" class=\"dataframe\">\n",
       "  <thead>\n",
       "    <tr style=\"text-align: right;\">\n",
       "      <th></th>\n",
       "      <th>Year</th>\n",
       "      <th>Total Dispatched Trips</th>\n",
       "      <th>Total Dispatched Shared Trips</th>\n",
       "      <th>Unique Dispatched Vehicles</th>\n",
       "    </tr>\n",
       "    <tr>\n",
       "      <th>Month</th>\n",
       "      <th></th>\n",
       "      <th></th>\n",
       "      <th></th>\n",
       "      <th></th>\n",
       "    </tr>\n",
       "  </thead>\n",
       "  <tbody>\n",
       "    <tr>\n",
       "      <th>1</th>\n",
       "      <td>2017.0</td>\n",
       "      <td>7981307.40</td>\n",
       "      <td>1245929.20</td>\n",
       "      <td>46773.80</td>\n",
       "    </tr>\n",
       "    <tr>\n",
       "      <th>2</th>\n",
       "      <td>2016.5</td>\n",
       "      <td>6439129.50</td>\n",
       "      <td>660847.25</td>\n",
       "      <td>39322.75</td>\n",
       "    </tr>\n",
       "    <tr>\n",
       "      <th>3</th>\n",
       "      <td>2016.5</td>\n",
       "      <td>7328283.25</td>\n",
       "      <td>880769.50</td>\n",
       "      <td>40170.50</td>\n",
       "    </tr>\n",
       "    <tr>\n",
       "      <th>4</th>\n",
       "      <td>2016.5</td>\n",
       "      <td>7196987.75</td>\n",
       "      <td>887343.00</td>\n",
       "      <td>41374.75</td>\n",
       "    </tr>\n",
       "    <tr>\n",
       "      <th>5</th>\n",
       "      <td>2016.5</td>\n",
       "      <td>7405314.25</td>\n",
       "      <td>829962.50</td>\n",
       "      <td>42374.00</td>\n",
       "    </tr>\n",
       "    <tr>\n",
       "      <th>6</th>\n",
       "      <td>2016.5</td>\n",
       "      <td>7585116.50</td>\n",
       "      <td>1067062.25</td>\n",
       "      <td>45199.00</td>\n",
       "    </tr>\n",
       "    <tr>\n",
       "      <th>7</th>\n",
       "      <td>2016.5</td>\n",
       "      <td>8008015.25</td>\n",
       "      <td>1249477.00</td>\n",
       "      <td>46858.00</td>\n",
       "    </tr>\n",
       "    <tr>\n",
       "      <th>8</th>\n",
       "      <td>2016.5</td>\n",
       "      <td>8065939.00</td>\n",
       "      <td>1329581.75</td>\n",
       "      <td>48704.25</td>\n",
       "    </tr>\n",
       "    <tr>\n",
       "      <th>9</th>\n",
       "      <td>2016.5</td>\n",
       "      <td>8441559.00</td>\n",
       "      <td>1348301.00</td>\n",
       "      <td>50606.50</td>\n",
       "    </tr>\n",
       "    <tr>\n",
       "      <th>10</th>\n",
       "      <td>2016.5</td>\n",
       "      <td>9041624.50</td>\n",
       "      <td>1407838.50</td>\n",
       "      <td>52042.50</td>\n",
       "    </tr>\n",
       "    <tr>\n",
       "      <th>11</th>\n",
       "      <td>2016.5</td>\n",
       "      <td>9100056.75</td>\n",
       "      <td>1491274.00</td>\n",
       "      <td>52972.75</td>\n",
       "    </tr>\n",
       "    <tr>\n",
       "      <th>12</th>\n",
       "      <td>2016.5</td>\n",
       "      <td>9765155.25</td>\n",
       "      <td>1564452.00</td>\n",
       "      <td>54497.25</td>\n",
       "    </tr>\n",
       "  </tbody>\n",
       "</table>\n",
       "</div>"
      ],
      "text/plain": [
       "         Year  Total Dispatched Trips  Total Dispatched Shared Trips  \\\n",
       "Month                                                                  \n",
       "1      2017.0              7981307.40                     1245929.20   \n",
       "2      2016.5              6439129.50                      660847.25   \n",
       "3      2016.5              7328283.25                      880769.50   \n",
       "4      2016.5              7196987.75                      887343.00   \n",
       "5      2016.5              7405314.25                      829962.50   \n",
       "6      2016.5              7585116.50                     1067062.25   \n",
       "7      2016.5              8008015.25                     1249477.00   \n",
       "8      2016.5              8065939.00                     1329581.75   \n",
       "9      2016.5              8441559.00                     1348301.00   \n",
       "10     2016.5              9041624.50                     1407838.50   \n",
       "11     2016.5              9100056.75                     1491274.00   \n",
       "12     2016.5              9765155.25                     1564452.00   \n",
       "\n",
       "       Unique Dispatched Vehicles  \n",
       "Month                              \n",
       "1                        46773.80  \n",
       "2                        39322.75  \n",
       "3                        40170.50  \n",
       "4                        41374.75  \n",
       "5                        42374.00  \n",
       "6                        45199.00  \n",
       "7                        46858.00  \n",
       "8                        48704.25  \n",
       "9                        50606.50  \n",
       "10                       52042.50  \n",
       "11                       52972.75  \n",
       "12                       54497.25  "
      ]
     },
     "execution_count": 596,
     "metadata": {},
     "output_type": "execute_result"
    }
   ],
   "source": [
    "uber_month_mean"
   ]
  },
  {
   "cell_type": "markdown",
   "metadata": {},
   "source": [
    "#### Now VIA"
   ]
  },
  {
   "cell_type": "code",
   "execution_count": 597,
   "metadata": {},
   "outputs": [],
   "source": [
    "via2=via.groupby(['Month'])"
   ]
  },
  {
   "cell_type": "code",
   "execution_count": 598,
   "metadata": {},
   "outputs": [],
   "source": [
    "via_month_mean=via2.mean()"
   ]
  },
  {
   "cell_type": "code",
   "execution_count": 599,
   "metadata": {},
   "outputs": [
    {
     "data": {
      "text/html": [
       "<div>\n",
       "<style scoped>\n",
       "    .dataframe tbody tr th:only-of-type {\n",
       "        vertical-align: middle;\n",
       "    }\n",
       "\n",
       "    .dataframe tbody tr th {\n",
       "        vertical-align: top;\n",
       "    }\n",
       "\n",
       "    .dataframe thead th {\n",
       "        text-align: right;\n",
       "    }\n",
       "</style>\n",
       "<table border=\"1\" class=\"dataframe\">\n",
       "  <thead>\n",
       "    <tr style=\"text-align: right;\">\n",
       "      <th></th>\n",
       "      <th>Year</th>\n",
       "      <th>Total Dispatched Trips</th>\n",
       "      <th>Total Dispatched Shared Trips</th>\n",
       "      <th>Unique Dispatched Vehicles</th>\n",
       "    </tr>\n",
       "    <tr>\n",
       "      <th>Month</th>\n",
       "      <th></th>\n",
       "      <th></th>\n",
       "      <th></th>\n",
       "      <th></th>\n",
       "    </tr>\n",
       "  </thead>\n",
       "  <tbody>\n",
       "    <tr>\n",
       "      <th>1</th>\n",
       "      <td>2017.5</td>\n",
       "      <td>762126.000000</td>\n",
       "      <td>305244.500000</td>\n",
       "      <td>4186.750000</td>\n",
       "    </tr>\n",
       "    <tr>\n",
       "      <th>2</th>\n",
       "      <td>2017.0</td>\n",
       "      <td>646205.000000</td>\n",
       "      <td>207396.666667</td>\n",
       "      <td>3258.333333</td>\n",
       "    </tr>\n",
       "    <tr>\n",
       "      <th>3</th>\n",
       "      <td>2017.0</td>\n",
       "      <td>728372.666667</td>\n",
       "      <td>230245.000000</td>\n",
       "      <td>3245.333333</td>\n",
       "    </tr>\n",
       "    <tr>\n",
       "      <th>4</th>\n",
       "      <td>2016.5</td>\n",
       "      <td>578563.250000</td>\n",
       "      <td>174610.500000</td>\n",
       "      <td>2783.000000</td>\n",
       "    </tr>\n",
       "    <tr>\n",
       "      <th>5</th>\n",
       "      <td>2016.5</td>\n",
       "      <td>612806.500000</td>\n",
       "      <td>192257.000000</td>\n",
       "      <td>2955.500000</td>\n",
       "    </tr>\n",
       "    <tr>\n",
       "      <th>6</th>\n",
       "      <td>2016.5</td>\n",
       "      <td>547652.750000</td>\n",
       "      <td>231805.250000</td>\n",
       "      <td>2978.500000</td>\n",
       "    </tr>\n",
       "    <tr>\n",
       "      <th>7</th>\n",
       "      <td>2016.5</td>\n",
       "      <td>612292.000000</td>\n",
       "      <td>286352.000000</td>\n",
       "      <td>3110.500000</td>\n",
       "    </tr>\n",
       "    <tr>\n",
       "      <th>8</th>\n",
       "      <td>2016.5</td>\n",
       "      <td>655796.000000</td>\n",
       "      <td>304123.500000</td>\n",
       "      <td>3147.500000</td>\n",
       "    </tr>\n",
       "    <tr>\n",
       "      <th>9</th>\n",
       "      <td>2016.5</td>\n",
       "      <td>669105.250000</td>\n",
       "      <td>319267.500000</td>\n",
       "      <td>3504.000000</td>\n",
       "    </tr>\n",
       "    <tr>\n",
       "      <th>10</th>\n",
       "      <td>2016.5</td>\n",
       "      <td>760198.500000</td>\n",
       "      <td>371100.750000</td>\n",
       "      <td>3761.750000</td>\n",
       "    </tr>\n",
       "    <tr>\n",
       "      <th>11</th>\n",
       "      <td>2016.5</td>\n",
       "      <td>694700.750000</td>\n",
       "      <td>322011.000000</td>\n",
       "      <td>3711.000000</td>\n",
       "    </tr>\n",
       "    <tr>\n",
       "      <th>12</th>\n",
       "      <td>2016.5</td>\n",
       "      <td>708226.500000</td>\n",
       "      <td>310836.500000</td>\n",
       "      <td>3740.000000</td>\n",
       "    </tr>\n",
       "  </tbody>\n",
       "</table>\n",
       "</div>"
      ],
      "text/plain": [
       "         Year  Total Dispatched Trips  Total Dispatched Shared Trips  \\\n",
       "Month                                                                  \n",
       "1      2017.5           762126.000000                  305244.500000   \n",
       "2      2017.0           646205.000000                  207396.666667   \n",
       "3      2017.0           728372.666667                  230245.000000   \n",
       "4      2016.5           578563.250000                  174610.500000   \n",
       "5      2016.5           612806.500000                  192257.000000   \n",
       "6      2016.5           547652.750000                  231805.250000   \n",
       "7      2016.5           612292.000000                  286352.000000   \n",
       "8      2016.5           655796.000000                  304123.500000   \n",
       "9      2016.5           669105.250000                  319267.500000   \n",
       "10     2016.5           760198.500000                  371100.750000   \n",
       "11     2016.5           694700.750000                  322011.000000   \n",
       "12     2016.5           708226.500000                  310836.500000   \n",
       "\n",
       "       Unique Dispatched Vehicles  \n",
       "Month                              \n",
       "1                     4186.750000  \n",
       "2                     3258.333333  \n",
       "3                     3245.333333  \n",
       "4                     2783.000000  \n",
       "5                     2955.500000  \n",
       "6                     2978.500000  \n",
       "7                     3110.500000  \n",
       "8                     3147.500000  \n",
       "9                     3504.000000  \n",
       "10                    3761.750000  \n",
       "11                    3711.000000  \n",
       "12                    3740.000000  "
      ]
     },
     "execution_count": 599,
     "metadata": {},
     "output_type": "execute_result"
    }
   ],
   "source": [
    "via_month_mean"
   ]
  },
  {
   "cell_type": "markdown",
   "metadata": {},
   "source": [
    "#### Now TAXIS"
   ]
  },
  {
   "cell_type": "code",
   "execution_count": 634,
   "metadata": {},
   "outputs": [],
   "source": [
    "taxi2=taxi_df.groupby(['Month'])"
   ]
  },
  {
   "cell_type": "code",
   "execution_count": 635,
   "metadata": {},
   "outputs": [],
   "source": [
    "taxi_month_mean=taxi2.mean()"
   ]
  },
  {
   "cell_type": "code",
   "execution_count": 636,
   "metadata": {},
   "outputs": [
    {
     "data": {
      "text/html": [
       "<div>\n",
       "<style scoped>\n",
       "    .dataframe tbody tr th:only-of-type {\n",
       "        vertical-align: middle;\n",
       "    }\n",
       "\n",
       "    .dataframe tbody tr th {\n",
       "        vertical-align: top;\n",
       "    }\n",
       "\n",
       "    .dataframe thead th {\n",
       "        text-align: right;\n",
       "    }\n",
       "</style>\n",
       "<table border=\"1\" class=\"dataframe\">\n",
       "  <thead>\n",
       "    <tr style=\"text-align: right;\">\n",
       "      <th></th>\n",
       "      <th>Trips Per Day</th>\n",
       "      <th>Days Per Month</th>\n",
       "      <th>Total Dispatched Trips</th>\n",
       "    </tr>\n",
       "    <tr>\n",
       "      <th>Month</th>\n",
       "      <th></th>\n",
       "      <th></th>\n",
       "      <th></th>\n",
       "    </tr>\n",
       "  </thead>\n",
       "  <tbody>\n",
       "    <tr>\n",
       "      <th>01</th>\n",
       "      <td>329445.666667</td>\n",
       "      <td>31.0</td>\n",
       "      <td>1.021282e+07</td>\n",
       "    </tr>\n",
       "    <tr>\n",
       "      <th>02</th>\n",
       "      <td>354035.777778</td>\n",
       "      <td>28.0</td>\n",
       "      <td>9.913002e+06</td>\n",
       "    </tr>\n",
       "    <tr>\n",
       "      <th>03</th>\n",
       "      <td>352692.444444</td>\n",
       "      <td>31.0</td>\n",
       "      <td>1.093347e+07</td>\n",
       "    </tr>\n",
       "    <tr>\n",
       "      <th>04</th>\n",
       "      <td>369628.750000</td>\n",
       "      <td>30.0</td>\n",
       "      <td>1.108886e+07</td>\n",
       "    </tr>\n",
       "    <tr>\n",
       "      <th>05</th>\n",
       "      <td>357425.500000</td>\n",
       "      <td>31.0</td>\n",
       "      <td>1.108019e+07</td>\n",
       "    </tr>\n",
       "    <tr>\n",
       "      <th>06</th>\n",
       "      <td>348581.750000</td>\n",
       "      <td>30.0</td>\n",
       "      <td>1.045745e+07</td>\n",
       "    </tr>\n",
       "    <tr>\n",
       "      <th>07</th>\n",
       "      <td>308859.500000</td>\n",
       "      <td>31.0</td>\n",
       "      <td>9.574644e+06</td>\n",
       "    </tr>\n",
       "    <tr>\n",
       "      <th>08</th>\n",
       "      <td>301151.250000</td>\n",
       "      <td>31.0</td>\n",
       "      <td>9.335689e+06</td>\n",
       "    </tr>\n",
       "    <tr>\n",
       "      <th>09</th>\n",
       "      <td>319405.750000</td>\n",
       "      <td>30.0</td>\n",
       "      <td>9.582172e+06</td>\n",
       "    </tr>\n",
       "    <tr>\n",
       "      <th>10</th>\n",
       "      <td>336707.250000</td>\n",
       "      <td>31.0</td>\n",
       "      <td>1.043792e+07</td>\n",
       "    </tr>\n",
       "    <tr>\n",
       "      <th>11</th>\n",
       "      <td>323696.250000</td>\n",
       "      <td>30.0</td>\n",
       "      <td>9.710888e+06</td>\n",
       "    </tr>\n",
       "    <tr>\n",
       "      <th>12</th>\n",
       "      <td>319268.000000</td>\n",
       "      <td>31.0</td>\n",
       "      <td>9.897308e+06</td>\n",
       "    </tr>\n",
       "  </tbody>\n",
       "</table>\n",
       "</div>"
      ],
      "text/plain": [
       "       Trips Per Day  Days Per Month  Total Dispatched Trips\n",
       "Month                                                       \n",
       "01     329445.666667            31.0            1.021282e+07\n",
       "02     354035.777778            28.0            9.913002e+06\n",
       "03     352692.444444            31.0            1.093347e+07\n",
       "04     369628.750000            30.0            1.108886e+07\n",
       "05     357425.500000            31.0            1.108019e+07\n",
       "06     348581.750000            30.0            1.045745e+07\n",
       "07     308859.500000            31.0            9.574644e+06\n",
       "08     301151.250000            31.0            9.335689e+06\n",
       "09     319405.750000            30.0            9.582172e+06\n",
       "10     336707.250000            31.0            1.043792e+07\n",
       "11     323696.250000            30.0            9.710888e+06\n",
       "12     319268.000000            31.0            9.897308e+06"
      ]
     },
     "execution_count": 636,
     "metadata": {},
     "output_type": "execute_result"
    }
   ],
   "source": [
    "taxi_month_mean"
   ]
  },
  {
   "cell_type": "markdown",
   "metadata": {},
   "source": [
    "We want the indexes for the taxis and the ride-hailing apps to be the same so we can plot them side by side, therefore we have to change the taxi months from 01 to 1 and so on"
   ]
  },
  {
   "cell_type": "code",
   "execution_count": 639,
   "metadata": {},
   "outputs": [],
   "source": [
    "Month_Corrected = [\"1\", \"2\", \"3\", \"4\", \"5\", \"6\", \"7\", \"8\", \"9\", \"10\", \"11\", \"12\"] \n",
    "  \n",
    "taxi_month_mean['Month_Corrected'] = Month_Corrected"
   ]
  },
  {
   "cell_type": "code",
   "execution_count": 640,
   "metadata": {},
   "outputs": [
    {
     "data": {
      "text/html": [
       "<div>\n",
       "<style scoped>\n",
       "    .dataframe tbody tr th:only-of-type {\n",
       "        vertical-align: middle;\n",
       "    }\n",
       "\n",
       "    .dataframe tbody tr th {\n",
       "        vertical-align: top;\n",
       "    }\n",
       "\n",
       "    .dataframe thead th {\n",
       "        text-align: right;\n",
       "    }\n",
       "</style>\n",
       "<table border=\"1\" class=\"dataframe\">\n",
       "  <thead>\n",
       "    <tr style=\"text-align: right;\">\n",
       "      <th></th>\n",
       "      <th>Trips Per Day</th>\n",
       "      <th>Days Per Month</th>\n",
       "      <th>Total Dispatched Trips</th>\n",
       "      <th>Month_Corrected</th>\n",
       "    </tr>\n",
       "    <tr>\n",
       "      <th>Month</th>\n",
       "      <th></th>\n",
       "      <th></th>\n",
       "      <th></th>\n",
       "      <th></th>\n",
       "    </tr>\n",
       "  </thead>\n",
       "  <tbody>\n",
       "    <tr>\n",
       "      <th>01</th>\n",
       "      <td>329445.666667</td>\n",
       "      <td>31.0</td>\n",
       "      <td>1.021282e+07</td>\n",
       "      <td>1</td>\n",
       "    </tr>\n",
       "    <tr>\n",
       "      <th>02</th>\n",
       "      <td>354035.777778</td>\n",
       "      <td>28.0</td>\n",
       "      <td>9.913002e+06</td>\n",
       "      <td>2</td>\n",
       "    </tr>\n",
       "    <tr>\n",
       "      <th>03</th>\n",
       "      <td>352692.444444</td>\n",
       "      <td>31.0</td>\n",
       "      <td>1.093347e+07</td>\n",
       "      <td>3</td>\n",
       "    </tr>\n",
       "    <tr>\n",
       "      <th>04</th>\n",
       "      <td>369628.750000</td>\n",
       "      <td>30.0</td>\n",
       "      <td>1.108886e+07</td>\n",
       "      <td>4</td>\n",
       "    </tr>\n",
       "    <tr>\n",
       "      <th>05</th>\n",
       "      <td>357425.500000</td>\n",
       "      <td>31.0</td>\n",
       "      <td>1.108019e+07</td>\n",
       "      <td>5</td>\n",
       "    </tr>\n",
       "    <tr>\n",
       "      <th>06</th>\n",
       "      <td>348581.750000</td>\n",
       "      <td>30.0</td>\n",
       "      <td>1.045745e+07</td>\n",
       "      <td>6</td>\n",
       "    </tr>\n",
       "    <tr>\n",
       "      <th>07</th>\n",
       "      <td>308859.500000</td>\n",
       "      <td>31.0</td>\n",
       "      <td>9.574644e+06</td>\n",
       "      <td>7</td>\n",
       "    </tr>\n",
       "    <tr>\n",
       "      <th>08</th>\n",
       "      <td>301151.250000</td>\n",
       "      <td>31.0</td>\n",
       "      <td>9.335689e+06</td>\n",
       "      <td>8</td>\n",
       "    </tr>\n",
       "    <tr>\n",
       "      <th>09</th>\n",
       "      <td>319405.750000</td>\n",
       "      <td>30.0</td>\n",
       "      <td>9.582172e+06</td>\n",
       "      <td>9</td>\n",
       "    </tr>\n",
       "    <tr>\n",
       "      <th>10</th>\n",
       "      <td>336707.250000</td>\n",
       "      <td>31.0</td>\n",
       "      <td>1.043792e+07</td>\n",
       "      <td>10</td>\n",
       "    </tr>\n",
       "    <tr>\n",
       "      <th>11</th>\n",
       "      <td>323696.250000</td>\n",
       "      <td>30.0</td>\n",
       "      <td>9.710888e+06</td>\n",
       "      <td>11</td>\n",
       "    </tr>\n",
       "    <tr>\n",
       "      <th>12</th>\n",
       "      <td>319268.000000</td>\n",
       "      <td>31.0</td>\n",
       "      <td>9.897308e+06</td>\n",
       "      <td>12</td>\n",
       "    </tr>\n",
       "  </tbody>\n",
       "</table>\n",
       "</div>"
      ],
      "text/plain": [
       "       Trips Per Day  Days Per Month  Total Dispatched Trips Month_Corrected\n",
       "Month                                                                       \n",
       "01     329445.666667            31.0            1.021282e+07               1\n",
       "02     354035.777778            28.0            9.913002e+06               2\n",
       "03     352692.444444            31.0            1.093347e+07               3\n",
       "04     369628.750000            30.0            1.108886e+07               4\n",
       "05     357425.500000            31.0            1.108019e+07               5\n",
       "06     348581.750000            30.0            1.045745e+07               6\n",
       "07     308859.500000            31.0            9.574644e+06               7\n",
       "08     301151.250000            31.0            9.335689e+06               8\n",
       "09     319405.750000            30.0            9.582172e+06               9\n",
       "10     336707.250000            31.0            1.043792e+07              10\n",
       "11     323696.250000            30.0            9.710888e+06              11\n",
       "12     319268.000000            31.0            9.897308e+06              12"
      ]
     },
     "execution_count": 640,
     "metadata": {},
     "output_type": "execute_result"
    }
   ],
   "source": [
    "taxi_month_mean"
   ]
  },
  {
   "cell_type": "markdown",
   "metadata": {},
   "source": [
    "#### Let's plot!"
   ]
  },
  {
   "cell_type": "markdown",
   "metadata": {},
   "source": [
    "We will analyze taxis separately because its values are much larger and therefore dominate our ride-hailing data so we can't see it.\n",
    "\n",
    "We also want to see if there is a difference in seasonality between ride-hailing apps and NYC Taxis"
   ]
  },
  {
   "cell_type": "code",
   "execution_count": 647,
   "metadata": {},
   "outputs": [
    {
     "data": {
      "text/plain": [
       "<matplotlib.legend.Legend at 0x127983588>"
      ]
     },
     "execution_count": 647,
     "metadata": {},
     "output_type": "execute_result"
    },
    {
     "data": {
      "image/png": "[encoded data removed]",
      "text/plain": [
       "<Figure size 1200x400 with 2 Axes>"
      ]
     },
     "metadata": {},
     "output_type": "display_data"
    }
   ],
   "source": [
    "fig, ax = plt.subplots(nrows = 1, ncols = 2, figsize = (12,4)) \n",
    "\n",
    "ax[0].bar(uber_month_mean.index, uber_month_mean[\"Total Dispatched Trips\"], color = 'black', label= \"Uber\")\n",
    "ax[0].bar(via_month_mean.index, via_month_mean[\"Total Dispatched Trips\"], color = 'lightblue', label= \"Via\")\n",
    "ax[0].bar(juno_month_mean.index, juno_month_mean[\"Total Dispatched Trips\"], color = 'navy', label= \"Juno\")\n",
    "ax[0].bar(lyft_month_mean.index, lyft_month_mean[\"Total Dispatched Trips\"], color = 'magenta', label= \"Lyft\")\n",
    "\n",
    "ax[1].bar(taxi_month_mean[\"Month_Corrected\"], taxi_month_mean[\"Total Dispatched Trips\"], color = 'Yellow', label= \"Taxi\")\n",
    "\n",
    "ax[0].set_title(\"Ride Hailing Seasonality\", fontsize = 14, fontweight = \"bold\") \n",
    "ax[1].set_title(\"NYC Taxi Seasonality\", fontsize = 14, fontweight = \"bold\") \n",
    "\n",
    "ax[0].set_ylabel(\"Total Dispatched Trips per Month\", fontsize = 12) \n",
    "ax[0].set_xlabel(\"Month\", fontsize = 12) \n",
    "ax[0].set_xticks([1,2,3,4,5,6,7,8,9,10,11,12])\n",
    "\n",
    "ax[1].set_ylabel(\"Total Dispatched Trips per Month\", fontsize = 12) \n",
    "ax[1].set_xlabel(\"Month\", fontsize = 12)\n",
    "\n",
    "ax[0].spines[\"right\"].set_visible(False)\n",
    "ax[0].spines[\"top\"].set_visible(False) \n",
    "ax[0].legend(loc='upper center', bbox_to_anchor=(0.5, -.15), shadow=True, ncol=4)\n",
    "\n",
    "\n",
    "ax[1].spines[\"right\"].set_visible(False)\n",
    "ax[1].spines[\"top\"].set_visible(False) \n",
    "ax[1].legend(loc='upper center', bbox_to_anchor=(0.5, -.15), shadow=True)\n"
   ]
  },
  {
   "cell_type": "markdown",
   "metadata": {},
   "source": [
    "Ride Hailing Apps: as expected, in the colder months of the year, people are more likely to use ride-hailing apps. However, we see this even more in October and November than we do in March and April, potentially because people are not yet adjusted to the cold and therefore are more likely to give in to paying for a car. We see a huge increase in December, which is probably due to the number of tourists in the city for the holidays.\n",
    "\n",
    "Taxis: For taxis, we see that the most taxis are taken in March, April, and May. This is likely because these are the rainiest months of the year. When it starts raining, people hail a cab immediately rather than going inside somewhere and waiting to call a car from an app. Also, ride-hailing apps typically sur-charge when it is raining so people will choose to take taxis if they can since this will likely be the cheaper option as well as the quicker option."
   ]
  },
  {
   "cell_type": "markdown",
   "metadata": {},
   "source": [
    "## Has ride sharing gotten more popular this year?\n",
    "Via started the ride-sharing trend in 2016, before any other app was doing it. In order to compete, both Lyft and Uber incorporated ride sharing. Let's see if this has become an increasingly popular option on these ride-hailing apps"
   ]
  },
  {
   "cell_type": "markdown",
   "metadata": {},
   "source": [
    "We are excluding Juno from this aspect of the study since it has yet to incorporate a ride-sharing feature to its application. We obviously exclude taxis as well since you cannot register as \"ride sharing\" when you enter a cab."
   ]
  },
  {
   "cell_type": "code",
   "execution_count": 91,
   "metadata": {},
   "outputs": [],
   "source": [
    "def ride_sharing(df,year):\n",
    "    \n",
    "    df_ride_sharing = df[df[\"Year\"] == year]\n",
    "    # The brand\n",
    "    \n",
    "    return df_ride_sharing[[\"Base Name\", \"Year\", \"Month\", \"Total Dispatched Shared Trips\"]]"
   ]
  },
  {
   "cell_type": "code",
   "execution_count": 92,
   "metadata": {},
   "outputs": [],
   "source": [
    "ride_sharing_uber=ride_sharing(uber,2018)"
   ]
  },
  {
   "cell_type": "code",
   "execution_count": 105,
   "metadata": {},
   "outputs": [],
   "source": [
    "ride_sharing_uber=ride_sharing_uber.set_index(\"Month\")"
   ]
  },
  {
   "cell_type": "code",
   "execution_count": 110,
   "metadata": {},
   "outputs": [
    {
     "data": {
      "text/html": [
       "<div>\n",
       "<style scoped>\n",
       "    .dataframe tbody tr th:only-of-type {\n",
       "        vertical-align: middle;\n",
       "    }\n",
       "\n",
       "    .dataframe tbody tr th {\n",
       "        vertical-align: top;\n",
       "    }\n",
       "\n",
       "    .dataframe thead th {\n",
       "        text-align: right;\n",
       "    }\n",
       "</style>\n",
       "<table border=\"1\" class=\"dataframe\">\n",
       "  <thead>\n",
       "    <tr style=\"text-align: right;\">\n",
       "      <th></th>\n",
       "      <th>Base Name</th>\n",
       "      <th>Year</th>\n",
       "      <th>Total Dispatched Shared Trips</th>\n",
       "    </tr>\n",
       "    <tr>\n",
       "      <th>Month</th>\n",
       "      <th></th>\n",
       "      <th></th>\n",
       "      <th></th>\n",
       "    </tr>\n",
       "  </thead>\n",
       "  <tbody>\n",
       "    <tr>\n",
       "      <th>1</th>\n",
       "      <td>UBER</td>\n",
       "      <td>2018</td>\n",
       "      <td>2613169</td>\n",
       "    </tr>\n",
       "    <tr>\n",
       "      <th>2</th>\n",
       "      <td>UBER</td>\n",
       "      <td>2018</td>\n",
       "      <td>2643389</td>\n",
       "    </tr>\n",
       "    <tr>\n",
       "      <th>3</th>\n",
       "      <td>UBER</td>\n",
       "      <td>2018</td>\n",
       "      <td>3523078</td>\n",
       "    </tr>\n",
       "    <tr>\n",
       "      <th>4</th>\n",
       "      <td>UBER</td>\n",
       "      <td>2018</td>\n",
       "      <td>3549372</td>\n",
       "    </tr>\n",
       "    <tr>\n",
       "      <th>5</th>\n",
       "      <td>UBER</td>\n",
       "      <td>2018</td>\n",
       "      <td>3319850</td>\n",
       "    </tr>\n",
       "    <tr>\n",
       "      <th>6</th>\n",
       "      <td>UBER</td>\n",
       "      <td>2018</td>\n",
       "      <td>3171911</td>\n",
       "    </tr>\n",
       "    <tr>\n",
       "      <th>7</th>\n",
       "      <td>UBER</td>\n",
       "      <td>2018</td>\n",
       "      <td>3877702</td>\n",
       "    </tr>\n",
       "    <tr>\n",
       "      <th>8</th>\n",
       "      <td>UBER</td>\n",
       "      <td>2018</td>\n",
       "      <td>4027450</td>\n",
       "    </tr>\n",
       "    <tr>\n",
       "      <th>9</th>\n",
       "      <td>UBER</td>\n",
       "      <td>2018</td>\n",
       "      <td>3943561</td>\n",
       "    </tr>\n",
       "    <tr>\n",
       "      <th>10</th>\n",
       "      <td>UBER</td>\n",
       "      <td>2018</td>\n",
       "      <td>4045741</td>\n",
       "    </tr>\n",
       "    <tr>\n",
       "      <th>11</th>\n",
       "      <td>UBER</td>\n",
       "      <td>2018</td>\n",
       "      <td>3858407</td>\n",
       "    </tr>\n",
       "    <tr>\n",
       "      <th>12</th>\n",
       "      <td>UBER</td>\n",
       "      <td>2018</td>\n",
       "      <td>3802083</td>\n",
       "    </tr>\n",
       "  </tbody>\n",
       "</table>\n",
       "</div>"
      ],
      "text/plain": [
       "      Base Name  Year  Total Dispatched Shared Trips\n",
       "Month                                               \n",
       "1          UBER  2018                        2613169\n",
       "2          UBER  2018                        2643389\n",
       "3          UBER  2018                        3523078\n",
       "4          UBER  2018                        3549372\n",
       "5          UBER  2018                        3319850\n",
       "6          UBER  2018                        3171911\n",
       "7          UBER  2018                        3877702\n",
       "8          UBER  2018                        4027450\n",
       "9          UBER  2018                        3943561\n",
       "10         UBER  2018                        4045741\n",
       "11         UBER  2018                        3858407\n",
       "12         UBER  2018                        3802083"
      ]
     },
     "execution_count": 110,
     "metadata": {},
     "output_type": "execute_result"
    }
   ],
   "source": [
    "ride_sharing_uber=ride_sharing_uber.reindex([1,2,3,4,5,6,7,8,9,10,11,12])\n",
    "ride_sharing_uber"
   ]
  },
  {
   "cell_type": "code",
   "execution_count": 93,
   "metadata": {},
   "outputs": [],
   "source": [
    "ride_sharing_lyft=ride_sharing(lyft,2018)"
   ]
  },
  {
   "cell_type": "code",
   "execution_count": 104,
   "metadata": {},
   "outputs": [],
   "source": [
    "ride_sharing_lyft=ride_sharing_lyft.set_index(\"Month\")"
   ]
  },
  {
   "cell_type": "code",
   "execution_count": 111,
   "metadata": {},
   "outputs": [
    {
     "data": {
      "text/html": [
       "<div>\n",
       "<style scoped>\n",
       "    .dataframe tbody tr th:only-of-type {\n",
       "        vertical-align: middle;\n",
       "    }\n",
       "\n",
       "    .dataframe tbody tr th {\n",
       "        vertical-align: top;\n",
       "    }\n",
       "\n",
       "    .dataframe thead th {\n",
       "        text-align: right;\n",
       "    }\n",
       "</style>\n",
       "<table border=\"1\" class=\"dataframe\">\n",
       "  <thead>\n",
       "    <tr style=\"text-align: right;\">\n",
       "      <th></th>\n",
       "      <th>Base Name</th>\n",
       "      <th>Year</th>\n",
       "      <th>Total Dispatched Shared Trips</th>\n",
       "    </tr>\n",
       "    <tr>\n",
       "      <th>Month</th>\n",
       "      <th></th>\n",
       "      <th></th>\n",
       "      <th></th>\n",
       "    </tr>\n",
       "  </thead>\n",
       "  <tbody>\n",
       "    <tr>\n",
       "      <th>1</th>\n",
       "      <td>LYFT</td>\n",
       "      <td>2018</td>\n",
       "      <td>641261</td>\n",
       "    </tr>\n",
       "    <tr>\n",
       "      <th>2</th>\n",
       "      <td>LYFT</td>\n",
       "      <td>2018</td>\n",
       "      <td>659044</td>\n",
       "    </tr>\n",
       "    <tr>\n",
       "      <th>3</th>\n",
       "      <td>LYFT</td>\n",
       "      <td>2018</td>\n",
       "      <td>641427</td>\n",
       "    </tr>\n",
       "    <tr>\n",
       "      <th>4</th>\n",
       "      <td>LYFT</td>\n",
       "      <td>2018</td>\n",
       "      <td>557190</td>\n",
       "    </tr>\n",
       "    <tr>\n",
       "      <th>5</th>\n",
       "      <td>LYFT</td>\n",
       "      <td>2018</td>\n",
       "      <td>540029</td>\n",
       "    </tr>\n",
       "    <tr>\n",
       "      <th>6</th>\n",
       "      <td>LYFT</td>\n",
       "      <td>2018</td>\n",
       "      <td>602496</td>\n",
       "    </tr>\n",
       "    <tr>\n",
       "      <th>7</th>\n",
       "      <td>LYFT</td>\n",
       "      <td>2018</td>\n",
       "      <td>615331</td>\n",
       "    </tr>\n",
       "    <tr>\n",
       "      <th>8</th>\n",
       "      <td>LYFT</td>\n",
       "      <td>2018</td>\n",
       "      <td>620932</td>\n",
       "    </tr>\n",
       "    <tr>\n",
       "      <th>9</th>\n",
       "      <td>LYFT</td>\n",
       "      <td>2018</td>\n",
       "      <td>641585</td>\n",
       "    </tr>\n",
       "    <tr>\n",
       "      <th>10</th>\n",
       "      <td>LYFT</td>\n",
       "      <td>2018</td>\n",
       "      <td>1024500</td>\n",
       "    </tr>\n",
       "    <tr>\n",
       "      <th>11</th>\n",
       "      <td>LYFT</td>\n",
       "      <td>2018</td>\n",
       "      <td>540745</td>\n",
       "    </tr>\n",
       "    <tr>\n",
       "      <th>12</th>\n",
       "      <td>LYFT</td>\n",
       "      <td>2018</td>\n",
       "      <td>691743</td>\n",
       "    </tr>\n",
       "  </tbody>\n",
       "</table>\n",
       "</div>"
      ],
      "text/plain": [
       "      Base Name  Year  Total Dispatched Shared Trips\n",
       "Month                                               \n",
       "1          LYFT  2018                         641261\n",
       "2          LYFT  2018                         659044\n",
       "3          LYFT  2018                         641427\n",
       "4          LYFT  2018                         557190\n",
       "5          LYFT  2018                         540029\n",
       "6          LYFT  2018                         602496\n",
       "7          LYFT  2018                         615331\n",
       "8          LYFT  2018                         620932\n",
       "9          LYFT  2018                         641585\n",
       "10         LYFT  2018                        1024500\n",
       "11         LYFT  2018                         540745\n",
       "12         LYFT  2018                         691743"
      ]
     },
     "execution_count": 111,
     "metadata": {},
     "output_type": "execute_result"
    }
   ],
   "source": [
    "ride_sharing_lyft=ride_sharing_lyft.reindex([1,2,3,4,5,6,7,8,9,10,11,12])\n",
    "ride_sharing_lyft"
   ]
  },
  {
   "cell_type": "code",
   "execution_count": 95,
   "metadata": {},
   "outputs": [],
   "source": [
    "ride_sharing_via=ride_sharing(via,2018)"
   ]
  },
  {
   "cell_type": "code",
   "execution_count": 103,
   "metadata": {},
   "outputs": [],
   "source": [
    "ride_sharing_via=ride_sharing_via.set_index(\"Month\")"
   ]
  },
  {
   "cell_type": "code",
   "execution_count": 112,
   "metadata": {},
   "outputs": [
    {
     "data": {
      "text/html": [
       "<div>\n",
       "<style scoped>\n",
       "    .dataframe tbody tr th:only-of-type {\n",
       "        vertical-align: middle;\n",
       "    }\n",
       "\n",
       "    .dataframe tbody tr th {\n",
       "        vertical-align: top;\n",
       "    }\n",
       "\n",
       "    .dataframe thead th {\n",
       "        text-align: right;\n",
       "    }\n",
       "</style>\n",
       "<table border=\"1\" class=\"dataframe\">\n",
       "  <thead>\n",
       "    <tr style=\"text-align: right;\">\n",
       "      <th></th>\n",
       "      <th>Base Name</th>\n",
       "      <th>Year</th>\n",
       "      <th>Total Dispatched Shared Trips</th>\n",
       "    </tr>\n",
       "    <tr>\n",
       "      <th>Month</th>\n",
       "      <th></th>\n",
       "      <th></th>\n",
       "      <th></th>\n",
       "    </tr>\n",
       "  </thead>\n",
       "  <tbody>\n",
       "    <tr>\n",
       "      <th>1</th>\n",
       "      <td>VIA</td>\n",
       "      <td>2018</td>\n",
       "      <td>662745</td>\n",
       "    </tr>\n",
       "    <tr>\n",
       "      <th>2</th>\n",
       "      <td>VIA</td>\n",
       "      <td>2018</td>\n",
       "      <td>622190</td>\n",
       "    </tr>\n",
       "    <tr>\n",
       "      <th>3</th>\n",
       "      <td>VIA</td>\n",
       "      <td>2018</td>\n",
       "      <td>690735</td>\n",
       "    </tr>\n",
       "    <tr>\n",
       "      <th>4</th>\n",
       "      <td>VIA</td>\n",
       "      <td>2018</td>\n",
       "      <td>698442</td>\n",
       "    </tr>\n",
       "    <tr>\n",
       "      <th>5</th>\n",
       "      <td>VIA</td>\n",
       "      <td>2018</td>\n",
       "      <td>703334</td>\n",
       "    </tr>\n",
       "    <tr>\n",
       "      <th>6</th>\n",
       "      <td>VIA</td>\n",
       "      <td>2018</td>\n",
       "      <td>496676</td>\n",
       "    </tr>\n",
       "    <tr>\n",
       "      <th>7</th>\n",
       "      <td>VIA</td>\n",
       "      <td>2018</td>\n",
       "      <td>562672</td>\n",
       "    </tr>\n",
       "    <tr>\n",
       "      <th>8</th>\n",
       "      <td>VIA</td>\n",
       "      <td>2018</td>\n",
       "      <td>567411</td>\n",
       "    </tr>\n",
       "    <tr>\n",
       "      <th>9</th>\n",
       "      <td>VIA</td>\n",
       "      <td>2018</td>\n",
       "      <td>651686</td>\n",
       "    </tr>\n",
       "    <tr>\n",
       "      <th>10</th>\n",
       "      <td>VIA</td>\n",
       "      <td>2018</td>\n",
       "      <td>766717</td>\n",
       "    </tr>\n",
       "    <tr>\n",
       "      <th>11</th>\n",
       "      <td>VIA</td>\n",
       "      <td>2018</td>\n",
       "      <td>656155</td>\n",
       "    </tr>\n",
       "    <tr>\n",
       "      <th>12</th>\n",
       "      <td>VIA</td>\n",
       "      <td>2018</td>\n",
       "      <td>606110</td>\n",
       "    </tr>\n",
       "  </tbody>\n",
       "</table>\n",
       "</div>"
      ],
      "text/plain": [
       "      Base Name  Year  Total Dispatched Shared Trips\n",
       "Month                                               \n",
       "1           VIA  2018                         662745\n",
       "2           VIA  2018                         622190\n",
       "3           VIA  2018                         690735\n",
       "4           VIA  2018                         698442\n",
       "5           VIA  2018                         703334\n",
       "6           VIA  2018                         496676\n",
       "7           VIA  2018                         562672\n",
       "8           VIA  2018                         567411\n",
       "9           VIA  2018                         651686\n",
       "10          VIA  2018                         766717\n",
       "11          VIA  2018                         656155\n",
       "12          VIA  2018                         606110"
      ]
     },
     "execution_count": 112,
     "metadata": {},
     "output_type": "execute_result"
    }
   ],
   "source": [
    "ride_sharing_via=ride_sharing_via.reindex([1,2,3,4,5,6,7,8,9,10,11,12])\n",
    "ride_sharing_via"
   ]
  },
  {
   "cell_type": "markdown",
   "metadata": {},
   "source": [
    "### Now let's plot..."
   ]
  },
  {
   "cell_type": "code",
   "execution_count": 664,
   "metadata": {},
   "outputs": [
    {
     "data": {
      "text/plain": [
       "<matplotlib.legend.Legend at 0x126822c88>"
      ]
     },
     "execution_count": 664,
     "metadata": {},
     "output_type": "execute_result"
    },
    {
     "data": {
      "image/png": "[encoded data removed]",
      "text/plain": [
       "<Figure size 500x400 with 1 Axes>"
      ]
     },
     "metadata": {},
     "output_type": "display_data"
    }
   ],
   "source": [
    "plt.rcParams.update(plt.rcParamsDefault)\n",
    "plt.xkcd() \n",
    "\n",
    "fig, ax = plt.subplots(figsize = (5,4))\n",
    "\n",
    "#ax.plot(usdata.index, usdata.gdp_growth\n",
    "ax.plot(ride_sharing_uber.index, ride_sharing_uber[\"Total Dispatched Shared Trips\"], color = 'black', linewidth = 3.0, label= \"Uber\")\n",
    "ax.plot(ride_sharing_via.index, ride_sharing_via[\"Total Dispatched Shared Trips\"], color = 'lightblue', linewidth = 3.0, label= \"Via\")\n",
    "ax.plot(ride_sharing_lyft.index, ride_sharing_lyft[\"Total Dispatched Shared Trips\"], color = 'magenta', linewidth = 3.0, label= \"Lyft\")\n",
    "\n",
    "ax.set_title(\"Growth in Ride Sharing Popularity, 2018\", fontsize = 14, fontweight = \"bold\") \n",
    "ax.set_ylabel(\"Total Dispatched Shared Trips\", fontsize = 12) \n",
    "ax.set_xlabel(\"Month\", fontsize = 12) \n",
    "ax.set_xticks([1,2,3,4,5,6,7,8,9,10,11,12])\n",
    "\n",
    "\n",
    "ax.spines[\"right\"].set_visible(False)\n",
    "ax.spines[\"top\"].set_visible(False) \n",
    "ax.legend(loc='upper center', bbox_to_anchor=(0.5, -.15), shadow=True, ncol=3)"
   ]
  },
  {
   "cell_type": "markdown",
   "metadata": {},
   "source": [
    "As you can see, there is no consistent growth in ride-sharing popularity. However, we do see that Uber has the strongest growth in the number of dispatched shared trips, which is suprising considering that they launched the ride-sharing feature last out of all 3 apps. "
   ]
  }
 ],
 "metadata": {
  "kernelspec": {
   "display_name": "Python 3",
   "language": "python",
   "name": "python3"
  },
  "language_info": {
   "codemirror_mode": {
    "name": "ipython",
    "version": 3
   },
   "file_extension": ".py",
   "mimetype": "text/x-python",
   "name": "python",
   "nbconvert_exporter": "python",
   "pygments_lexer": "ipython3",
   "version": "3.6.5"
  }
 },
 "nbformat": 4,
 "nbformat_minor": 2
}
